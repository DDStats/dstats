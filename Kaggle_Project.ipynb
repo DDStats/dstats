heroku create myapp --buildpack heroku/python

{
 "cells": [
  {
   "cell_type": "markdown",
   "metadata": {},
   "source": [
    "# __Exploring Hockey Player  Data using Python Plotly Express & Dash App__"
   ]
  },
  {
   "cell_type": "markdown",
   "metadata": {},
   "source": [
    "### _Plotly Express and Plotly Dash App are two great open source visualization tools. The following plots are some examples of what you can accomplish using some basic hockey player data._\n",
    "\n"
   ]
  },
  {
   "cell_type": "markdown",
   "metadata": {},
   "source": [
    "### _Learn more about Plotly products here:https://plotly.com/dash/_"
   ]
  },
  {
   "cell_type": "markdown",
   "metadata": {},
   "source": [
    "### __Import of Necessary Packages__"
   ]
  },
  {
   "cell_type": "code",
   "execution_count": 1,
   "metadata": {},
   "outputs": [],
   "source": [
    "#import of necessary packages\n",
    "import dash_core_components as dcc\n",
    "\n",
    "import plotly.graph_objects as go\n",
    "import plotly.express as px\n",
    "import numpy as np\n",
    "import pandas as pd\n",
    "import json\n",
    "import time\n",
    "import requests\n",
    "from random import randint\n",
    "\n",
    "import dash_table\n",
    "from jupyter_dash import JupyterDash\n",
    "import dash_html_components as html\n",
    "from dash.dependencies import Input, Output"
   ]
  },
  {
   "cell_type": "markdown",
   "metadata": {},
   "source": [
    "### __Player Data Retrieval & Data Frame Conversion__\n"
   ]
  },
  {
   "cell_type": "code",
   "execution_count": 59,
   "metadata": {},
   "outputs": [
    {
     "data": {
      "text/html": [
       "<div>\n",
       "<style scoped>\n",
       "    .dataframe tbody tr th:only-of-type {\n",
       "        vertical-align: middle;\n",
       "    }\n",
       "\n",
       "    .dataframe tbody tr th {\n",
       "        vertical-align: top;\n",
       "    }\n",
       "\n",
       "    .dataframe thead th {\n",
       "        text-align: right;\n",
       "    }\n",
       "</style>\n",
       "<table border=\"1\" class=\"dataframe\">\n",
       "  <thead>\n",
       "    <tr style=\"text-align: right;\">\n",
       "      <th></th>\n",
       "      <th>player_id</th>\n",
       "      <th>shortname</th>\n",
       "      <th>first_name</th>\n",
       "      <th>last_name</th>\n",
       "      <th>name</th>\n",
       "      <th>phonetic_name</th>\n",
       "      <th>active</th>\n",
       "      <th>height</th>\n",
       "      <th>weight</th>\n",
       "      <th>last_years_club</th>\n",
       "      <th>age</th>\n",
       "      <th>shoots</th>\n",
       "      <th>position</th>\n",
       "      <th>suspension_games_remaining</th>\n",
       "      <th>suspension_indefinite</th>\n",
       "      <th>rookie</th>\n",
       "      <th>veteran</th>\n",
       "      <th>jersey_number</th>\n",
       "      <th>team_name</th>\n",
       "      <th>team_code</th>\n",
       "      <th>team_id</th>\n",
       "      <th>birthdate</th>\n",
       "      <th>birthdate_year</th>\n",
       "      <th>hometown</th>\n",
       "      <th>homeprov</th>\n",
       "      <th>homecntry</th>\n",
       "      <th>birthtown</th>\n",
       "      <th>birthprov</th>\n",
       "      <th>birthcntry</th>\n",
       "      <th>hometownprov</th>\n",
       "      <th>homeplace</th>\n",
       "      <th>games_played</th>\n",
       "      <th>game_winning_goals</th>\n",
       "      <th>game_tieing_goals</th>\n",
       "      <th>first_goals</th>\n",
       "      <th>insurance_goals</th>\n",
       "      <th>unassisted_goals</th>\n",
       "      <th>empty_net_goals</th>\n",
       "      <th>overtime_goals</th>\n",
       "      <th>ice_time</th>\n",
       "      <th>ice_time_avg</th>\n",
       "      <th>goals</th>\n",
       "      <th>shots</th>\n",
       "      <th>shooting_percentage</th>\n",
       "      <th>assists</th>\n",
       "      <th>points</th>\n",
       "      <th>points_per_game</th>\n",
       "      <th>plus_minus</th>\n",
       "      <th>penalty_minutes</th>\n",
       "      <th>penalty_minutes_per_game</th>\n",
       "      <th>minor_penalties</th>\n",
       "      <th>major_penalties</th>\n",
       "      <th>power_play_goals</th>\n",
       "      <th>power_play_assists</th>\n",
       "      <th>power_play_points</th>\n",
       "      <th>short_handed_goals</th>\n",
       "      <th>short_handed_assists</th>\n",
       "      <th>short_handed_points</th>\n",
       "      <th>shootout_goals</th>\n",
       "      <th>shootout_attempts</th>\n",
       "      <th>shootout_winning_goals</th>\n",
       "      <th>shootout_games_played</th>\n",
       "      <th>faceoff_attempts</th>\n",
       "      <th>faceoff_wins</th>\n",
       "      <th>faceoff_pct</th>\n",
       "      <th>faceoff_wa</th>\n",
       "      <th>shots_on</th>\n",
       "      <th>shootout_percentage</th>\n",
       "      <th>latest_team_id</th>\n",
       "      <th>num_teams</th>\n",
       "      <th>logo</th>\n",
       "      <th>rank</th>\n",
       "      <th>player_page_link</th>\n",
       "      <th>player_image</th>\n",
       "      <th>namelink</th>\n",
       "      <th>teamlink</th>\n",
       "    </tr>\n",
       "  </thead>\n",
       "  <tbody>\n",
       "    <tr>\n",
       "      <th>0</th>\n",
       "      <td>27984</td>\n",
       "      <td>S. Jarvis</td>\n",
       "      <td>Seth</td>\n",
       "      <td>Jarvis</td>\n",
       "      <td>Seth Jarvis</td>\n",
       "      <td></td>\n",
       "      <td>1</td>\n",
       "      <td>5'10\"</td>\n",
       "      <td>172</td>\n",
       "      <td></td>\n",
       "      <td>18</td>\n",
       "      <td>R</td>\n",
       "      <td>C</td>\n",
       "      <td></td>\n",
       "      <td></td>\n",
       "      <td>0</td>\n",
       "      <td>1</td>\n",
       "      <td>24</td>\n",
       "      <td>Portland Winterhawks</td>\n",
       "      <td>POR</td>\n",
       "      <td>208</td>\n",
       "      <td>Feb  1, 2002</td>\n",
       "      <td>'02</td>\n",
       "      <td>Winnipeg</td>\n",
       "      <td>MB</td>\n",
       "      <td></td>\n",
       "      <td></td>\n",
       "      <td></td>\n",
       "      <td></td>\n",
       "      <td>Winnipeg, MB</td>\n",
       "      <td>Winnipeg MB</td>\n",
       "      <td>58</td>\n",
       "      <td>8</td>\n",
       "      <td>0</td>\n",
       "      <td>8</td>\n",
       "      <td>1</td>\n",
       "      <td>2</td>\n",
       "      <td>3</td>\n",
       "      <td>0</td>\n",
       "      <td>0</td>\n",
       "      <td>0.0000</td>\n",
       "      <td>42</td>\n",
       "      <td>219</td>\n",
       "      <td>19.2</td>\n",
       "      <td>56</td>\n",
       "      <td>98</td>\n",
       "      <td>1.69</td>\n",
       "      <td>53</td>\n",
       "      <td>24</td>\n",
       "      <td>0.41</td>\n",
       "      <td>12</td>\n",
       "      <td>0</td>\n",
       "      <td>8</td>\n",
       "      <td>19</td>\n",
       "      <td>27</td>\n",
       "      <td>2</td>\n",
       "      <td>1</td>\n",
       "      <td>3</td>\n",
       "      <td>1</td>\n",
       "      <td>6</td>\n",
       "      <td>1</td>\n",
       "      <td>6</td>\n",
       "      <td>45</td>\n",
       "      <td>20</td>\n",
       "      <td>44.4</td>\n",
       "      <td>20/45</td>\n",
       "      <td>0</td>\n",
       "      <td>16.7</td>\n",
       "      <td>208</td>\n",
       "      <td>1</td>\n",
       "      <td>https://assets.leaguestat.com/whl/logos/208.jpg</td>\n",
       "      <td>1</td>\n",
       "      <td>http://leaguestat.com/stats/player.php?id=27984</td>\n",
       "      <td>https://assets.leaguestat.com/whl/240x240/2798...</td>\n",
       "      <td>Seth Jarvis</td>\n",
       "      <td>&lt;a href=\"http://leaguestat.com/whl/whl/en/stat...</td>\n",
       "    </tr>\n",
       "    <tr>\n",
       "      <th>1</th>\n",
       "      <td>27726</td>\n",
       "      <td>J. Dureau</td>\n",
       "      <td>Jaydon</td>\n",
       "      <td>Dureau</td>\n",
       "      <td>Jaydon Dureau</td>\n",
       "      <td></td>\n",
       "      <td>1</td>\n",
       "      <td>5'11\"</td>\n",
       "      <td>174</td>\n",
       "      <td></td>\n",
       "      <td>19</td>\n",
       "      <td>L</td>\n",
       "      <td>LW</td>\n",
       "      <td></td>\n",
       "      <td></td>\n",
       "      <td>0</td>\n",
       "      <td>1</td>\n",
       "      <td>22</td>\n",
       "      <td>Portland Winterhawks</td>\n",
       "      <td>POR</td>\n",
       "      <td>208</td>\n",
       "      <td>Jan 20, 2001</td>\n",
       "      <td>'01</td>\n",
       "      <td>White City</td>\n",
       "      <td>SK</td>\n",
       "      <td></td>\n",
       "      <td></td>\n",
       "      <td></td>\n",
       "      <td></td>\n",
       "      <td>White City, SK</td>\n",
       "      <td>White City SK</td>\n",
       "      <td>61</td>\n",
       "      <td>3</td>\n",
       "      <td>0</td>\n",
       "      <td>2</td>\n",
       "      <td>3</td>\n",
       "      <td>0</td>\n",
       "      <td>3</td>\n",
       "      <td>1</td>\n",
       "      <td>0</td>\n",
       "      <td>0.0000</td>\n",
       "      <td>19</td>\n",
       "      <td>147</td>\n",
       "      <td>12.9</td>\n",
       "      <td>51</td>\n",
       "      <td>70</td>\n",
       "      <td>1.15</td>\n",
       "      <td>41</td>\n",
       "      <td>35</td>\n",
       "      <td>0.57</td>\n",
       "      <td>15</td>\n",
       "      <td>1</td>\n",
       "      <td>2</td>\n",
       "      <td>14</td>\n",
       "      <td>16</td>\n",
       "      <td>1</td>\n",
       "      <td>3</td>\n",
       "      <td>4</td>\n",
       "      <td>2</td>\n",
       "      <td>5</td>\n",
       "      <td>0</td>\n",
       "      <td>5</td>\n",
       "      <td>31</td>\n",
       "      <td>10</td>\n",
       "      <td>32.3</td>\n",
       "      <td>10/31</td>\n",
       "      <td>0</td>\n",
       "      <td>40.0</td>\n",
       "      <td>208</td>\n",
       "      <td>1</td>\n",
       "      <td>https://assets.leaguestat.com/whl/logos/208.jpg</td>\n",
       "      <td>2</td>\n",
       "      <td>http://leaguestat.com/stats/player.php?id=27726</td>\n",
       "      <td>https://assets.leaguestat.com/whl/240x240/2772...</td>\n",
       "      <td>Jaydon Dureau</td>\n",
       "      <td>&lt;a href=\"http://leaguestat.com/whl/whl/en/stat...</td>\n",
       "    </tr>\n",
       "    <tr>\n",
       "      <th>2</th>\n",
       "      <td>27839</td>\n",
       "      <td>R. Newkirk</td>\n",
       "      <td>Reece</td>\n",
       "      <td>Newkirk</td>\n",
       "      <td>Reece Newkirk</td>\n",
       "      <td></td>\n",
       "      <td>1</td>\n",
       "      <td>5'11\"</td>\n",
       "      <td>180</td>\n",
       "      <td></td>\n",
       "      <td>19</td>\n",
       "      <td>L</td>\n",
       "      <td>C</td>\n",
       "      <td></td>\n",
       "      <td></td>\n",
       "      <td>0</td>\n",
       "      <td>1</td>\n",
       "      <td>12</td>\n",
       "      <td>Portland Winterhawks</td>\n",
       "      <td>POR</td>\n",
       "      <td>208</td>\n",
       "      <td>Feb 20, 2001</td>\n",
       "      <td>'01</td>\n",
       "      <td>Moose Jaw</td>\n",
       "      <td>SK</td>\n",
       "      <td></td>\n",
       "      <td></td>\n",
       "      <td></td>\n",
       "      <td></td>\n",
       "      <td>Moose Jaw, SK</td>\n",
       "      <td>Moose Jaw SK</td>\n",
       "      <td>55</td>\n",
       "      <td>5</td>\n",
       "      <td>0</td>\n",
       "      <td>5</td>\n",
       "      <td>4</td>\n",
       "      <td>2</td>\n",
       "      <td>4</td>\n",
       "      <td>1</td>\n",
       "      <td>0</td>\n",
       "      <td>0.0000</td>\n",
       "      <td>29</td>\n",
       "      <td>196</td>\n",
       "      <td>14.8</td>\n",
       "      <td>36</td>\n",
       "      <td>65</td>\n",
       "      <td>1.18</td>\n",
       "      <td>11</td>\n",
       "      <td>38</td>\n",
       "      <td>0.69</td>\n",
       "      <td>19</td>\n",
       "      <td>0</td>\n",
       "      <td>15</td>\n",
       "      <td>10</td>\n",
       "      <td>25</td>\n",
       "      <td>1</td>\n",
       "      <td>2</td>\n",
       "      <td>3</td>\n",
       "      <td>0</td>\n",
       "      <td>4</td>\n",
       "      <td>0</td>\n",
       "      <td>4</td>\n",
       "      <td>294</td>\n",
       "      <td>135</td>\n",
       "      <td>45.9</td>\n",
       "      <td>135/294</td>\n",
       "      <td>0</td>\n",
       "      <td>0.0</td>\n",
       "      <td>208</td>\n",
       "      <td>1</td>\n",
       "      <td>https://assets.leaguestat.com/whl/logos/208.jpg</td>\n",
       "      <td>3</td>\n",
       "      <td>http://leaguestat.com/stats/player.php?id=27839</td>\n",
       "      <td>https://assets.leaguestat.com/whl/240x240/2783...</td>\n",
       "      <td>Reece Newkirk</td>\n",
       "      <td>&lt;a href=\"http://leaguestat.com/whl/whl/en/stat...</td>\n",
       "    </tr>\n",
       "    <tr>\n",
       "      <th>3</th>\n",
       "      <td>27832</td>\n",
       "      <td>J. Ludvig</td>\n",
       "      <td>Johnny</td>\n",
       "      <td>Ludvig</td>\n",
       "      <td>Johnny Ludvig</td>\n",
       "      <td></td>\n",
       "      <td>1</td>\n",
       "      <td>6'1\"</td>\n",
       "      <td>205</td>\n",
       "      <td></td>\n",
       "      <td>20</td>\n",
       "      <td>L</td>\n",
       "      <td>D</td>\n",
       "      <td></td>\n",
       "      <td></td>\n",
       "      <td>0</td>\n",
       "      <td>1</td>\n",
       "      <td>15</td>\n",
       "      <td>Portland Winterhawks</td>\n",
       "      <td>POR</td>\n",
       "      <td>208</td>\n",
       "      <td>Aug  2, 2000</td>\n",
       "      <td>'00</td>\n",
       "      <td>Kamloops</td>\n",
       "      <td>BC</td>\n",
       "      <td></td>\n",
       "      <td></td>\n",
       "      <td></td>\n",
       "      <td></td>\n",
       "      <td>Kamloops, BC</td>\n",
       "      <td>Kamloops BC</td>\n",
       "      <td>60</td>\n",
       "      <td>1</td>\n",
       "      <td>0</td>\n",
       "      <td>4</td>\n",
       "      <td>0</td>\n",
       "      <td>0</td>\n",
       "      <td>0</td>\n",
       "      <td>0</td>\n",
       "      <td>0</td>\n",
       "      <td>0.0000</td>\n",
       "      <td>17</td>\n",
       "      <td>207</td>\n",
       "      <td>8.2</td>\n",
       "      <td>45</td>\n",
       "      <td>62</td>\n",
       "      <td>1.03</td>\n",
       "      <td>46</td>\n",
       "      <td>57</td>\n",
       "      <td>0.95</td>\n",
       "      <td>21</td>\n",
       "      <td>3</td>\n",
       "      <td>9</td>\n",
       "      <td>20</td>\n",
       "      <td>29</td>\n",
       "      <td>0</td>\n",
       "      <td>1</td>\n",
       "      <td>1</td>\n",
       "      <td>0</td>\n",
       "      <td>0</td>\n",
       "      <td>0</td>\n",
       "      <td>0</td>\n",
       "      <td>1</td>\n",
       "      <td>1</td>\n",
       "      <td>100.0</td>\n",
       "      <td>1/1</td>\n",
       "      <td>0</td>\n",
       "      <td>0.0</td>\n",
       "      <td>208</td>\n",
       "      <td>1</td>\n",
       "      <td>https://assets.leaguestat.com/whl/logos/208.jpg</td>\n",
       "      <td>4</td>\n",
       "      <td>http://leaguestat.com/stats/player.php?id=27832</td>\n",
       "      <td>https://assets.leaguestat.com/whl/240x240/2783...</td>\n",
       "      <td>Johnny Ludvig</td>\n",
       "      <td>&lt;a href=\"http://leaguestat.com/whl/whl/en/stat...</td>\n",
       "    </tr>\n",
       "    <tr>\n",
       "      <th>4</th>\n",
       "      <td>27540</td>\n",
       "      <td>J. Gricius</td>\n",
       "      <td>Jake</td>\n",
       "      <td>Gricius</td>\n",
       "      <td>Jake Gricius</td>\n",
       "      <td></td>\n",
       "      <td>1</td>\n",
       "      <td>6'3\"</td>\n",
       "      <td>200</td>\n",
       "      <td></td>\n",
       "      <td>21</td>\n",
       "      <td>L</td>\n",
       "      <td>C</td>\n",
       "      <td></td>\n",
       "      <td></td>\n",
       "      <td>0</td>\n",
       "      <td>1</td>\n",
       "      <td>14</td>\n",
       "      <td>Portland Winterhawks</td>\n",
       "      <td>POR</td>\n",
       "      <td>208</td>\n",
       "      <td>Oct 13, 1999</td>\n",
       "      <td>'99</td>\n",
       "      <td>Colorado Springs</td>\n",
       "      <td>CO</td>\n",
       "      <td></td>\n",
       "      <td></td>\n",
       "      <td></td>\n",
       "      <td></td>\n",
       "      <td>Colorado Springs, CO</td>\n",
       "      <td>Colorado Springs CO</td>\n",
       "      <td>63</td>\n",
       "      <td>3</td>\n",
       "      <td>0</td>\n",
       "      <td>1</td>\n",
       "      <td>3</td>\n",
       "      <td>1</td>\n",
       "      <td>0</td>\n",
       "      <td>0</td>\n",
       "      <td>0</td>\n",
       "      <td>0.0000</td>\n",
       "      <td>21</td>\n",
       "      <td>208</td>\n",
       "      <td>10.1</td>\n",
       "      <td>40</td>\n",
       "      <td>61</td>\n",
       "      <td>0.97</td>\n",
       "      <td>13</td>\n",
       "      <td>32</td>\n",
       "      <td>0.51</td>\n",
       "      <td>16</td>\n",
       "      <td>0</td>\n",
       "      <td>4</td>\n",
       "      <td>16</td>\n",
       "      <td>20</td>\n",
       "      <td>2</td>\n",
       "      <td>2</td>\n",
       "      <td>4</td>\n",
       "      <td>0</td>\n",
       "      <td>2</td>\n",
       "      <td>0</td>\n",
       "      <td>2</td>\n",
       "      <td>1465</td>\n",
       "      <td>813</td>\n",
       "      <td>55.5</td>\n",
       "      <td>813/1465</td>\n",
       "      <td>0</td>\n",
       "      <td>0.0</td>\n",
       "      <td>208</td>\n",
       "      <td>1</td>\n",
       "      <td>https://assets.leaguestat.com/whl/logos/208.jpg</td>\n",
       "      <td>5</td>\n",
       "      <td>http://leaguestat.com/stats/player.php?id=27540</td>\n",
       "      <td>https://assets.leaguestat.com/whl/240x240/2754...</td>\n",
       "      <td>Jake Gricius</td>\n",
       "      <td>&lt;a href=\"http://leaguestat.com/whl/whl/en/stat...</td>\n",
       "    </tr>\n",
       "  </tbody>\n",
       "</table>\n",
       "</div>"
      ],
      "text/plain": [
       "  player_id   shortname first_name last_name           name phonetic_name  \\\n",
       "0     27984   S. Jarvis       Seth    Jarvis    Seth Jarvis                 \n",
       "1     27726   J. Dureau     Jaydon    Dureau  Jaydon Dureau                 \n",
       "2     27839  R. Newkirk      Reece   Newkirk  Reece Newkirk                 \n",
       "3     27832   J. Ludvig     Johnny    Ludvig  Johnny Ludvig                 \n",
       "4     27540  J. Gricius       Jake   Gricius   Jake Gricius                 \n",
       "\n",
       "  active height weight last_years_club age shoots position  \\\n",
       "0      1  5'10\"    172                  18      R        C   \n",
       "1      1  5'11\"    174                  19      L       LW   \n",
       "2      1  5'11\"    180                  19      L        C   \n",
       "3      1   6'1\"    205                  20      L        D   \n",
       "4      1   6'3\"    200                  21      L        C   \n",
       "\n",
       "  suspension_games_remaining suspension_indefinite rookie veteran  \\\n",
       "0                                                       0       1   \n",
       "1                                                       0       1   \n",
       "2                                                       0       1   \n",
       "3                                                       0       1   \n",
       "4                                                       0       1   \n",
       "\n",
       "  jersey_number             team_name team_code team_id     birthdate  \\\n",
       "0            24  Portland Winterhawks       POR     208  Feb  1, 2002   \n",
       "1            22  Portland Winterhawks       POR     208  Jan 20, 2001   \n",
       "2            12  Portland Winterhawks       POR     208  Feb 20, 2001   \n",
       "3            15  Portland Winterhawks       POR     208  Aug  2, 2000   \n",
       "4            14  Portland Winterhawks       POR     208  Oct 13, 1999   \n",
       "\n",
       "  birthdate_year          hometown homeprov homecntry birthtown birthprov  \\\n",
       "0            '02          Winnipeg       MB                                 \n",
       "1            '01        White City       SK                                 \n",
       "2            '01         Moose Jaw       SK                                 \n",
       "3            '00          Kamloops       BC                                 \n",
       "4            '99  Colorado Springs       CO                                 \n",
       "\n",
       "  birthcntry          hometownprov             homeplace games_played  \\\n",
       "0                     Winnipeg, MB          Winnipeg MB            58   \n",
       "1                   White City, SK        White City SK            61   \n",
       "2                    Moose Jaw, SK         Moose Jaw SK            55   \n",
       "3                     Kamloops, BC          Kamloops BC            60   \n",
       "4             Colorado Springs, CO  Colorado Springs CO            63   \n",
       "\n",
       "  game_winning_goals game_tieing_goals first_goals insurance_goals  \\\n",
       "0                  8                 0           8               1   \n",
       "1                  3                 0           2               3   \n",
       "2                  5                 0           5               4   \n",
       "3                  1                 0           4               0   \n",
       "4                  3                 0           1               3   \n",
       "\n",
       "  unassisted_goals empty_net_goals overtime_goals ice_time ice_time_avg goals  \\\n",
       "0                2               3              0        0       0.0000    42   \n",
       "1                0               3              1        0       0.0000    19   \n",
       "2                2               4              1        0       0.0000    29   \n",
       "3                0               0              0        0       0.0000    17   \n",
       "4                1               0              0        0       0.0000    21   \n",
       "\n",
       "  shots shooting_percentage assists points points_per_game plus_minus  \\\n",
       "0   219                19.2      56     98            1.69         53   \n",
       "1   147                12.9      51     70            1.15         41   \n",
       "2   196                14.8      36     65            1.18         11   \n",
       "3   207                 8.2      45     62            1.03         46   \n",
       "4   208                10.1      40     61            0.97         13   \n",
       "\n",
       "  penalty_minutes penalty_minutes_per_game minor_penalties major_penalties  \\\n",
       "0              24                     0.41              12               0   \n",
       "1              35                     0.57              15               1   \n",
       "2              38                     0.69              19               0   \n",
       "3              57                     0.95              21               3   \n",
       "4              32                     0.51              16               0   \n",
       "\n",
       "  power_play_goals power_play_assists power_play_points short_handed_goals  \\\n",
       "0                8                 19                27                  2   \n",
       "1                2                 14                16                  1   \n",
       "2               15                 10                25                  1   \n",
       "3                9                 20                29                  0   \n",
       "4                4                 16                20                  2   \n",
       "\n",
       "  short_handed_assists short_handed_points shootout_goals shootout_attempts  \\\n",
       "0                    1                   3              1                 6   \n",
       "1                    3                   4              2                 5   \n",
       "2                    2                   3              0                 4   \n",
       "3                    1                   1              0                 0   \n",
       "4                    2                   4              0                 2   \n",
       "\n",
       "  shootout_winning_goals shootout_games_played faceoff_attempts faceoff_wins  \\\n",
       "0                      1                     6               45           20   \n",
       "1                      0                     5               31           10   \n",
       "2                      0                     4              294          135   \n",
       "3                      0                     0                1            1   \n",
       "4                      0                     2             1465          813   \n",
       "\n",
       "  faceoff_pct faceoff_wa shots_on shootout_percentage latest_team_id  \\\n",
       "0        44.4      20/45        0                16.7            208   \n",
       "1        32.3      10/31        0                40.0            208   \n",
       "2        45.9    135/294        0                 0.0            208   \n",
       "3       100.0        1/1        0                 0.0            208   \n",
       "4        55.5   813/1465        0                 0.0            208   \n",
       "\n",
       "  num_teams                                             logo  rank  \\\n",
       "0         1  https://assets.leaguestat.com/whl/logos/208.jpg     1   \n",
       "1         1  https://assets.leaguestat.com/whl/logos/208.jpg     2   \n",
       "2         1  https://assets.leaguestat.com/whl/logos/208.jpg     3   \n",
       "3         1  https://assets.leaguestat.com/whl/logos/208.jpg     4   \n",
       "4         1  https://assets.leaguestat.com/whl/logos/208.jpg     5   \n",
       "\n",
       "                                  player_page_link  \\\n",
       "0  http://leaguestat.com/stats/player.php?id=27984   \n",
       "1  http://leaguestat.com/stats/player.php?id=27726   \n",
       "2  http://leaguestat.com/stats/player.php?id=27839   \n",
       "3  http://leaguestat.com/stats/player.php?id=27832   \n",
       "4  http://leaguestat.com/stats/player.php?id=27540   \n",
       "\n",
       "                                        player_image       namelink  \\\n",
       "0  https://assets.leaguestat.com/whl/240x240/2798...    Seth Jarvis   \n",
       "1  https://assets.leaguestat.com/whl/240x240/2772...  Jaydon Dureau   \n",
       "2  https://assets.leaguestat.com/whl/240x240/2783...  Reece Newkirk   \n",
       "3  https://assets.leaguestat.com/whl/240x240/2783...  Johnny Ludvig   \n",
       "4  https://assets.leaguestat.com/whl/240x240/2754...   Jake Gricius   \n",
       "\n",
       "                                            teamlink  \n",
       "0  <a href=\"http://leaguestat.com/whl/whl/en/stat...  \n",
       "1  <a href=\"http://leaguestat.com/whl/whl/en/stat...  \n",
       "2  <a href=\"http://leaguestat.com/whl/whl/en/stat...  \n",
       "3  <a href=\"http://leaguestat.com/whl/whl/en/stat...  \n",
       "4  <a href=\"http://leaguestat.com/whl/whl/en/stat...  "
      ]
     },
     "execution_count": 59,
     "metadata": {},
     "output_type": "execute_result"
    }
   ],
   "source": [
    "#Retrieval of JSON data dictionary and coverted into a Pandas DataFrame\n",
    "\n",
    "url = \"https://lscluster.hockeytech.com/feed/?feed=modulekit&view=statviewtype&type=skaters&key=41b145a848f4bd67&fmt=json&client_code=whl&lang=en&season_id=270&team_id=208&league_code=&fmt=json&sort=active&order_direction=\"\n",
    "response = requests.get(url)\n",
    "time.sleep(randint (4,5))\n",
    "json = response.json()\n",
    "hawk = pd.DataFrame(json['SiteKit']['Statviewtype'])\n",
    "pd.set_option('display.max_columns', 200)\n",
    "hawk.head()\n"
   ]
  },
  {
   "cell_type": "markdown",
   "metadata": {},
   "source": [
    "### __Player Characteristicss Rectangular Data Tree Map with Plotly.Express__"
   ]
  },
  {
   "cell_type": "code",
   "execution_count": 55,
   "metadata": {},
   "outputs": [
    {
     "data": {
      "application/vnd.plotly.v1+json": {
       "config": {
        "plotlyServerURL": "https://plot.ly"
       },
       "data": [
        {
         "branchvalues": "total",
         "customdata": [
          [
           171,
           171
          ],
          [
           161,
           161
          ],
          [
           174,
           174
          ],
          [
           178,
           178
          ],
          [
           160,
           160
          ],
          [
           174,
           174
          ],
          [
           180,
           180
          ],
          [
           152,
           152
          ],
          [
           199,
           199
          ],
          [
           154,
           154
          ],
          [
           192,
           192
          ],
          [
           210,
           210
          ],
          [
           205,
           205
          ],
          [
           176,
           176
          ],
          [
           164,
           164
          ],
          [
           185,
           185
          ],
          [
           201,
           201
          ],
          [
           200,
           200
          ],
          [
           183,
           183
          ],
          [
           188,
           188
          ],
          [
           172,
           172
          ],
          [
           158,
           158
          ],
          [
           166,
           166
          ],
          [
           191,
           191
          ],
          [
           177,
           177
          ],
          [
           172,
           172
          ],
          [
           161,
           161
          ],
          [
           172,
           172
          ],
          [
           174,
           174
          ],
          [
           171,
           171
          ],
          [
           178,
           178
          ],
          [
           160,
           160
          ],
          [
           174,
           174
          ],
          [
           180,
           180
          ],
          [
           158,
           158
          ],
          [
           152,
           152
          ],
          [
           166,
           166
          ],
          [
           199,
           199
          ],
          [
           154,
           154
          ],
          [
           192,
           192
          ],
          [
           191,
           191
          ],
          [
           210,
           210
          ],
          [
           205,
           205
          ],
          [
           176,
           176
          ],
          [
           177,
           177
          ],
          [
           164,
           164
          ],
          [
           185,
           185
          ],
          [
           201,
           201
          ],
          [
           200,
           200
          ],
          [
           183,
           183
          ],
          [
           188,
           188
          ],
          [
           172,
           172
          ],
          [
           185,
           185
          ],
          [
           171,
           171
          ],
          [
           161,
           161
          ],
          [
           174,
           174
          ],
          [
           172,
           172
          ],
          [
           205,
           205
          ],
          [
           176,
           176
          ],
          [
           152,
           152
          ],
          [
           178,
           178
          ],
          [
           199,
           199
          ],
          [
           192,
           192
          ],
          [
           201,
           201
          ],
          [
           180,
           180
          ],
          [
           177,
           177
          ],
          [
           172,
           172
          ],
          [
           160,
           160
          ],
          [
           188,
           188
          ],
          [
           191,
           191
          ],
          [
           174,
           174
          ],
          [
           164,
           164
          ],
          [
           210,
           210
          ],
          [
           154,
           154
          ],
          [
           200,
           200
          ],
          [
           158,
           158
          ],
          [
           166,
           166
          ],
          [
           183,
           183
          ],
          [
           185,
           185
          ],
          [
           174,
           174
          ],
          [
           164,
           164
          ],
          [
           171,
           171
          ],
          [
           161,
           161
          ],
          [
           210,
           210
          ],
          [
           154,
           154
          ],
          [
           200,
           200
          ],
          [
           158,
           158
          ],
          [
           174,
           174
          ],
          [
           172,
           172
          ],
          [
           205,
           205
          ],
          [
           188,
           188
          ],
          [
           176,
           176
          ],
          [
           152,
           152
          ],
          [
           178,
           178
          ],
          [
           199,
           199
          ],
          [
           166,
           166
          ],
          [
           192,
           192
          ],
          [
           201,
           201
          ],
          [
           183,
           183
          ],
          [
           180,
           180
          ],
          [
           177,
           177
          ],
          [
           172,
           172
          ],
          [
           191,
           191
          ],
          [
           160,
           160
          ],
          [
           158.2954186413902,
           158.2954186413902
          ],
          [
           175.89268755935421,
           175.89268755935421
          ],
          [
           175.92909535452324,
           175.92909535452324
          ],
          [
           191.30026338893765,
           191.30026338893765
          ],
          [
           197.0642978003384,
           197.0642978003384
          ],
          [
           179.97781606719792,
           179.97781606719792
          ]
         ],
         "domain": {
          "x": [
           0,
           1
          ],
          "y": [
           0,
           1
          ]
         },
         "hovertemplate": "labels=%{label}<br>weight_sum=%{value}<br>parent=%{parent}<br>id=%{id}<br>weight=%{color}<extra></extra>",
         "ids": [
          "age/18/Dante Giannuzzi/CAN/5'11/",
          "age/17/Gabe Klassen/CAN/5'10/L",
          "age/19/Clay Hanus/USA/5'10\"/L",
          "age/18/Kurtis Smythe/CAN/5'11/L",
          "age/17/Tyson Kozak/CAN/5'11/L",
          "age/19/Jaydon Dureau/CAN/5'11\"/L",
          "age/19/Reece Newkirk/CAN/5'11\"/L",
          "age/19/Kishaun Gervais/CAN/5'8/L",
          "age/21/Lane Gilliss/CAN/6'0/L",
          "age/17/Jack O'Brien/USA/6'0/L",
          "age/21/Matthew Quigley/CAN/6'0\"/L",
          "age/20/Isaiah DiLaura/USA/6'1/L",
          "age/20/Johnny Ludvig/CAN/6'1\"/L",
          "age/19/Kade Nolan/CAN/6'1\"/L",
          "age/18/Cross Hanas/USA/6'1\"/L",
          "age/20/Christian Riemer/CAN/6'2/L",
          "age/20/Nick Cicek/CAN/6'3\"/L",
          "age/21/Jake Gricius/USA/6'3\"/L",
          "age/19/Nick Perna/USA/6'3\"/L",
          "age/19/Jonas Brøndberg/DEN/6'4/L",
          "age/18/Seth Jarvis/CAN/5'10\"/R",
          "age/17/James Stefan/USA/5'11'/R",
          "age/20/Mason Mannek/USA/5'8\"/R",
          "age/18/Simon Knak/SUI/6'1/R",
          "age/18/Robbie Fromm-Delorme/CAN/6'1\"/R",
          "age/20/Joel Hofer/CAN/6'5\"/R",
          "age/17/Gabe Klassen/CAN/5'10",
          "age/18/Seth Jarvis/CAN/5'10\"",
          "age/19/Clay Hanus/USA/5'10\"",
          "age/18/Dante Giannuzzi/CAN/5'11",
          "age/18/Kurtis Smythe/CAN/5'11",
          "age/17/Tyson Kozak/CAN/5'11",
          "age/19/Jaydon Dureau/CAN/5'11\"",
          "age/19/Reece Newkirk/CAN/5'11\"",
          "age/17/James Stefan/USA/5'11'",
          "age/19/Kishaun Gervais/CAN/5'8",
          "age/20/Mason Mannek/USA/5'8\"",
          "age/21/Lane Gilliss/CAN/6'0",
          "age/17/Jack O'Brien/USA/6'0",
          "age/21/Matthew Quigley/CAN/6'0\"",
          "age/18/Simon Knak/SUI/6'1",
          "age/20/Isaiah DiLaura/USA/6'1",
          "age/20/Johnny Ludvig/CAN/6'1\"",
          "age/19/Kade Nolan/CAN/6'1\"",
          "age/18/Robbie Fromm-Delorme/CAN/6'1\"",
          "age/18/Cross Hanas/USA/6'1\"",
          "age/20/Christian Riemer/CAN/6'2",
          "age/20/Nick Cicek/CAN/6'3\"",
          "age/21/Jake Gricius/USA/6'3\"",
          "age/19/Nick Perna/USA/6'3\"",
          "age/19/Jonas Brøndberg/DEN/6'4",
          "age/20/Joel Hofer/CAN/6'5\"",
          "age/20/Christian Riemer/CAN",
          "age/18/Dante Giannuzzi/CAN",
          "age/17/Gabe Klassen/CAN",
          "age/19/Jaydon Dureau/CAN",
          "age/20/Joel Hofer/CAN",
          "age/20/Johnny Ludvig/CAN",
          "age/19/Kade Nolan/CAN",
          "age/19/Kishaun Gervais/CAN",
          "age/18/Kurtis Smythe/CAN",
          "age/21/Lane Gilliss/CAN",
          "age/21/Matthew Quigley/CAN",
          "age/20/Nick Cicek/CAN",
          "age/19/Reece Newkirk/CAN",
          "age/18/Robbie Fromm-Delorme/CAN",
          "age/18/Seth Jarvis/CAN",
          "age/17/Tyson Kozak/CAN",
          "age/19/Jonas Brøndberg/DEN",
          "age/18/Simon Knak/SUI",
          "age/19/Clay Hanus/USA",
          "age/18/Cross Hanas/USA",
          "age/20/Isaiah DiLaura/USA",
          "age/17/Jack O'Brien/USA",
          "age/21/Jake Gricius/USA",
          "age/17/James Stefan/USA",
          "age/20/Mason Mannek/USA",
          "age/19/Nick Perna/USA",
          "age/20/Christian Riemer",
          "age/19/Clay Hanus",
          "age/18/Cross Hanas",
          "age/18/Dante Giannuzzi",
          "age/17/Gabe Klassen",
          "age/20/Isaiah DiLaura",
          "age/17/Jack O'Brien",
          "age/21/Jake Gricius",
          "age/17/James Stefan",
          "age/19/Jaydon Dureau",
          "age/20/Joel Hofer",
          "age/20/Johnny Ludvig",
          "age/19/Jonas Brøndberg",
          "age/19/Kade Nolan",
          "age/19/Kishaun Gervais",
          "age/18/Kurtis Smythe",
          "age/21/Lane Gilliss",
          "age/20/Mason Mannek",
          "age/21/Matthew Quigley",
          "age/20/Nick Cicek",
          "age/19/Nick Perna",
          "age/19/Reece Newkirk",
          "age/18/Robbie Fromm-Delorme",
          "age/18/Seth Jarvis",
          "age/18/Simon Knak",
          "age/17/Tyson Kozak",
          "age/17",
          "age/18",
          "age/19",
          "age/20",
          "age/21",
          "age"
         ],
         "labels": [
          "",
          "L",
          "L",
          "L",
          "L",
          "L",
          "L",
          "L",
          "L",
          "L",
          "L",
          "L",
          "L",
          "L",
          "L",
          "L",
          "L",
          "L",
          "L",
          "L",
          "R",
          "R",
          "R",
          "R",
          "R",
          "R",
          "5'10",
          "5'10\"",
          "5'10\"",
          "5'11",
          "5'11",
          "5'11",
          "5'11\"",
          "5'11\"",
          "5'11'",
          "5'8",
          "5'8\"",
          "6'0",
          "6'0",
          "6'0\"",
          "6'1",
          "6'1",
          "6'1\"",
          "6'1\"",
          "6'1\"",
          "6'1\"",
          "6'2",
          "6'3\"",
          "6'3\"",
          "6'3\"",
          "6'4",
          "6'5\"",
          "CAN",
          "CAN",
          "CAN",
          "CAN",
          "CAN",
          "CAN",
          "CAN",
          "CAN",
          "CAN",
          "CAN",
          "CAN",
          "CAN",
          "CAN",
          "CAN",
          "CAN",
          "CAN",
          "DEN",
          "SUI",
          "USA",
          "USA",
          "USA",
          "USA",
          "USA",
          "USA",
          "USA",
          "USA",
          "Christian Riemer",
          "Clay Hanus",
          "Cross Hanas",
          "Dante Giannuzzi",
          "Gabe Klassen",
          "Isaiah DiLaura",
          "Jack O'Brien",
          "Jake Gricius",
          "James Stefan",
          "Jaydon Dureau",
          "Joel Hofer",
          "Johnny Ludvig",
          "Jonas Brøndberg",
          "Kade Nolan",
          "Kishaun Gervais",
          "Kurtis Smythe",
          "Lane Gilliss",
          "Mason Mannek",
          "Matthew Quigley",
          "Nick Cicek",
          "Nick Perna",
          "Reece Newkirk",
          "Robbie Fromm-Delorme",
          "Seth Jarvis",
          "Simon Knak",
          "Tyson Kozak",
          "17",
          "18",
          "19",
          "20",
          "21",
          "age"
         ],
         "marker": {
          "coloraxis": "coloraxis",
          "colors": [
           171,
           161,
           174,
           178,
           160,
           174,
           180,
           152,
           199,
           154,
           192,
           210,
           205,
           176,
           164,
           185,
           201,
           200,
           183,
           188,
           172,
           158,
           166,
           191,
           177,
           172,
           161,
           172,
           174,
           171,
           178,
           160,
           174,
           180,
           158,
           152,
           166,
           199,
           154,
           192,
           191,
           210,
           205,
           176,
           177,
           164,
           185,
           201,
           200,
           183,
           188,
           172,
           185,
           171,
           161,
           174,
           172,
           205,
           176,
           152,
           178,
           199,
           192,
           201,
           180,
           177,
           172,
           160,
           188,
           191,
           174,
           164,
           210,
           154,
           200,
           158,
           166,
           183,
           185,
           174,
           164,
           171,
           161,
           210,
           154,
           200,
           158,
           174,
           172,
           205,
           188,
           176,
           152,
           178,
           199,
           166,
           192,
           201,
           183,
           180,
           177,
           172,
           191,
           160,
           158.2954186413902,
           175.89268755935421,
           175.92909535452324,
           191.30026338893765,
           197.0642978003384,
           179.97781606719792
          ]
         },
         "name": "",
         "parents": [
          "age/18/Dante Giannuzzi/CAN/5'11",
          "age/17/Gabe Klassen/CAN/5'10",
          "age/19/Clay Hanus/USA/5'10\"",
          "age/18/Kurtis Smythe/CAN/5'11",
          "age/17/Tyson Kozak/CAN/5'11",
          "age/19/Jaydon Dureau/CAN/5'11\"",
          "age/19/Reece Newkirk/CAN/5'11\"",
          "age/19/Kishaun Gervais/CAN/5'8",
          "age/21/Lane Gilliss/CAN/6'0",
          "age/17/Jack O'Brien/USA/6'0",
          "age/21/Matthew Quigley/CAN/6'0\"",
          "age/20/Isaiah DiLaura/USA/6'1",
          "age/20/Johnny Ludvig/CAN/6'1\"",
          "age/19/Kade Nolan/CAN/6'1\"",
          "age/18/Cross Hanas/USA/6'1\"",
          "age/20/Christian Riemer/CAN/6'2",
          "age/20/Nick Cicek/CAN/6'3\"",
          "age/21/Jake Gricius/USA/6'3\"",
          "age/19/Nick Perna/USA/6'3\"",
          "age/19/Jonas Brøndberg/DEN/6'4",
          "age/18/Seth Jarvis/CAN/5'10\"",
          "age/17/James Stefan/USA/5'11'",
          "age/20/Mason Mannek/USA/5'8\"",
          "age/18/Simon Knak/SUI/6'1",
          "age/18/Robbie Fromm-Delorme/CAN/6'1\"",
          "age/20/Joel Hofer/CAN/6'5\"",
          "age/17/Gabe Klassen/CAN",
          "age/18/Seth Jarvis/CAN",
          "age/19/Clay Hanus/USA",
          "age/18/Dante Giannuzzi/CAN",
          "age/18/Kurtis Smythe/CAN",
          "age/17/Tyson Kozak/CAN",
          "age/19/Jaydon Dureau/CAN",
          "age/19/Reece Newkirk/CAN",
          "age/17/James Stefan/USA",
          "age/19/Kishaun Gervais/CAN",
          "age/20/Mason Mannek/USA",
          "age/21/Lane Gilliss/CAN",
          "age/17/Jack O'Brien/USA",
          "age/21/Matthew Quigley/CAN",
          "age/18/Simon Knak/SUI",
          "age/20/Isaiah DiLaura/USA",
          "age/20/Johnny Ludvig/CAN",
          "age/19/Kade Nolan/CAN",
          "age/18/Robbie Fromm-Delorme/CAN",
          "age/18/Cross Hanas/USA",
          "age/20/Christian Riemer/CAN",
          "age/20/Nick Cicek/CAN",
          "age/21/Jake Gricius/USA",
          "age/19/Nick Perna/USA",
          "age/19/Jonas Brøndberg/DEN",
          "age/20/Joel Hofer/CAN",
          "age/20/Christian Riemer",
          "age/18/Dante Giannuzzi",
          "age/17/Gabe Klassen",
          "age/19/Jaydon Dureau",
          "age/20/Joel Hofer",
          "age/20/Johnny Ludvig",
          "age/19/Kade Nolan",
          "age/19/Kishaun Gervais",
          "age/18/Kurtis Smythe",
          "age/21/Lane Gilliss",
          "age/21/Matthew Quigley",
          "age/20/Nick Cicek",
          "age/19/Reece Newkirk",
          "age/18/Robbie Fromm-Delorme",
          "age/18/Seth Jarvis",
          "age/17/Tyson Kozak",
          "age/19/Jonas Brøndberg",
          "age/18/Simon Knak",
          "age/19/Clay Hanus",
          "age/18/Cross Hanas",
          "age/20/Isaiah DiLaura",
          "age/17/Jack O'Brien",
          "age/21/Jake Gricius",
          "age/17/James Stefan",
          "age/20/Mason Mannek",
          "age/19/Nick Perna",
          "age/20",
          "age/19",
          "age/18",
          "age/18",
          "age/17",
          "age/20",
          "age/17",
          "age/21",
          "age/17",
          "age/19",
          "age/20",
          "age/20",
          "age/19",
          "age/19",
          "age/19",
          "age/18",
          "age/21",
          "age/20",
          "age/21",
          "age/20",
          "age/19",
          "age/19",
          "age/18",
          "age/18",
          "age/18",
          "age/17",
          "age",
          "age",
          "age",
          "age",
          "age",
          ""
         ],
         "type": "treemap",
         "values": [
          171,
          161,
          174,
          178,
          160,
          174,
          180,
          152,
          199,
          154,
          192,
          210,
          205,
          176,
          164,
          185,
          201,
          200,
          183,
          188,
          172,
          158,
          166,
          191,
          177,
          172,
          161,
          172,
          174,
          171,
          178,
          160,
          174,
          180,
          158,
          152,
          166,
          199,
          154,
          192,
          191,
          210,
          205,
          176,
          177,
          164,
          185,
          201,
          200,
          183,
          188,
          172,
          185,
          171,
          161,
          174,
          172,
          205,
          176,
          152,
          178,
          199,
          192,
          201,
          180,
          177,
          172,
          160,
          188,
          191,
          174,
          164,
          210,
          154,
          200,
          158,
          166,
          183,
          185,
          174,
          164,
          171,
          161,
          210,
          154,
          200,
          158,
          174,
          172,
          205,
          188,
          176,
          152,
          178,
          199,
          166,
          192,
          201,
          183,
          180,
          177,
          172,
          191,
          160,
          633,
          1053,
          1227,
          1139,
          591,
          4643
         ]
        }
       ],
       "layout": {
        "coloraxis": {
         "colorbar": {
          "title": {
           "text": "weight"
          }
         },
         "colorscale": [
          [
           0,
           "rgb(255,245,240)"
          ],
          [
           0.125,
           "rgb(254,224,210)"
          ],
          [
           0.25,
           "rgb(252,187,161)"
          ],
          [
           0.375,
           "rgb(252,146,114)"
          ],
          [
           0.5,
           "rgb(251,106,74)"
          ],
          [
           0.625,
           "rgb(239,59,44)"
          ],
          [
           0.75,
           "rgb(203,24,29)"
          ],
          [
           0.875,
           "rgb(165,15,21)"
          ],
          [
           1,
           "rgb(103,0,13)"
          ]
         ]
        },
        "legend": {
         "tracegroupgap": 0
        },
        "template": {
         "data": {
          "bar": [
           {
            "error_x": {
             "color": "#2a3f5f"
            },
            "error_y": {
             "color": "#2a3f5f"
            },
            "marker": {
             "line": {
              "color": "#E5ECF6",
              "width": 0.5
             }
            },
            "type": "bar"
           }
          ],
          "barpolar": [
           {
            "marker": {
             "line": {
              "color": "#E5ECF6",
              "width": 0.5
             }
            },
            "type": "barpolar"
           }
          ],
          "carpet": [
           {
            "aaxis": {
             "endlinecolor": "#2a3f5f",
             "gridcolor": "white",
             "linecolor": "white",
             "minorgridcolor": "white",
             "startlinecolor": "#2a3f5f"
            },
            "baxis": {
             "endlinecolor": "#2a3f5f",
             "gridcolor": "white",
             "linecolor": "white",
             "minorgridcolor": "white",
             "startlinecolor": "#2a3f5f"
            },
            "type": "carpet"
           }
          ],
          "choropleth": [
           {
            "colorbar": {
             "outlinewidth": 0,
             "ticks": ""
            },
            "type": "choropleth"
           }
          ],
          "contour": [
           {
            "colorbar": {
             "outlinewidth": 0,
             "ticks": ""
            },
            "colorscale": [
             [
              0,
              "#0d0887"
             ],
             [
              0.1111111111111111,
              "#46039f"
             ],
             [
              0.2222222222222222,
              "#7201a8"
             ],
             [
              0.3333333333333333,
              "#9c179e"
             ],
             [
              0.4444444444444444,
              "#bd3786"
             ],
             [
              0.5555555555555556,
              "#d8576b"
             ],
             [
              0.6666666666666666,
              "#ed7953"
             ],
             [
              0.7777777777777778,
              "#fb9f3a"
             ],
             [
              0.8888888888888888,
              "#fdca26"
             ],
             [
              1,
              "#f0f921"
             ]
            ],
            "type": "contour"
           }
          ],
          "contourcarpet": [
           {
            "colorbar": {
             "outlinewidth": 0,
             "ticks": ""
            },
            "type": "contourcarpet"
           }
          ],
          "heatmap": [
           {
            "colorbar": {
             "outlinewidth": 0,
             "ticks": ""
            },
            "colorscale": [
             [
              0,
              "#0d0887"
             ],
             [
              0.1111111111111111,
              "#46039f"
             ],
             [
              0.2222222222222222,
              "#7201a8"
             ],
             [
              0.3333333333333333,
              "#9c179e"
             ],
             [
              0.4444444444444444,
              "#bd3786"
             ],
             [
              0.5555555555555556,
              "#d8576b"
             ],
             [
              0.6666666666666666,
              "#ed7953"
             ],
             [
              0.7777777777777778,
              "#fb9f3a"
             ],
             [
              0.8888888888888888,
              "#fdca26"
             ],
             [
              1,
              "#f0f921"
             ]
            ],
            "type": "heatmap"
           }
          ],
          "heatmapgl": [
           {
            "colorbar": {
             "outlinewidth": 0,
             "ticks": ""
            },
            "colorscale": [
             [
              0,
              "#0d0887"
             ],
             [
              0.1111111111111111,
              "#46039f"
             ],
             [
              0.2222222222222222,
              "#7201a8"
             ],
             [
              0.3333333333333333,
              "#9c179e"
             ],
             [
              0.4444444444444444,
              "#bd3786"
             ],
             [
              0.5555555555555556,
              "#d8576b"
             ],
             [
              0.6666666666666666,
              "#ed7953"
             ],
             [
              0.7777777777777778,
              "#fb9f3a"
             ],
             [
              0.8888888888888888,
              "#fdca26"
             ],
             [
              1,
              "#f0f921"
             ]
            ],
            "type": "heatmapgl"
           }
          ],
          "histogram": [
           {
            "marker": {
             "colorbar": {
              "outlinewidth": 0,
              "ticks": ""
             }
            },
            "type": "histogram"
           }
          ],
          "histogram2d": [
           {
            "colorbar": {
             "outlinewidth": 0,
             "ticks": ""
            },
            "colorscale": [
             [
              0,
              "#0d0887"
             ],
             [
              0.1111111111111111,
              "#46039f"
             ],
             [
              0.2222222222222222,
              "#7201a8"
             ],
             [
              0.3333333333333333,
              "#9c179e"
             ],
             [
              0.4444444444444444,
              "#bd3786"
             ],
             [
              0.5555555555555556,
              "#d8576b"
             ],
             [
              0.6666666666666666,
              "#ed7953"
             ],
             [
              0.7777777777777778,
              "#fb9f3a"
             ],
             [
              0.8888888888888888,
              "#fdca26"
             ],
             [
              1,
              "#f0f921"
             ]
            ],
            "type": "histogram2d"
           }
          ],
          "histogram2dcontour": [
           {
            "colorbar": {
             "outlinewidth": 0,
             "ticks": ""
            },
            "colorscale": [
             [
              0,
              "#0d0887"
             ],
             [
              0.1111111111111111,
              "#46039f"
             ],
             [
              0.2222222222222222,
              "#7201a8"
             ],
             [
              0.3333333333333333,
              "#9c179e"
             ],
             [
              0.4444444444444444,
              "#bd3786"
             ],
             [
              0.5555555555555556,
              "#d8576b"
             ],
             [
              0.6666666666666666,
              "#ed7953"
             ],
             [
              0.7777777777777778,
              "#fb9f3a"
             ],
             [
              0.8888888888888888,
              "#fdca26"
             ],
             [
              1,
              "#f0f921"
             ]
            ],
            "type": "histogram2dcontour"
           }
          ],
          "mesh3d": [
           {
            "colorbar": {
             "outlinewidth": 0,
             "ticks": ""
            },
            "type": "mesh3d"
           }
          ],
          "parcoords": [
           {
            "line": {
             "colorbar": {
              "outlinewidth": 0,
              "ticks": ""
             }
            },
            "type": "parcoords"
           }
          ],
          "pie": [
           {
            "automargin": true,
            "type": "pie"
           }
          ],
          "scatter": [
           {
            "marker": {
             "colorbar": {
              "outlinewidth": 0,
              "ticks": ""
             }
            },
            "type": "scatter"
           }
          ],
          "scatter3d": [
           {
            "line": {
             "colorbar": {
              "outlinewidth": 0,
              "ticks": ""
             }
            },
            "marker": {
             "colorbar": {
              "outlinewidth": 0,
              "ticks": ""
             }
            },
            "type": "scatter3d"
           }
          ],
          "scattercarpet": [
           {
            "marker": {
             "colorbar": {
              "outlinewidth": 0,
              "ticks": ""
             }
            },
            "type": "scattercarpet"
           }
          ],
          "scattergeo": [
           {
            "marker": {
             "colorbar": {
              "outlinewidth": 0,
              "ticks": ""
             }
            },
            "type": "scattergeo"
           }
          ],
          "scattergl": [
           {
            "marker": {
             "colorbar": {
              "outlinewidth": 0,
              "ticks": ""
             }
            },
            "type": "scattergl"
           }
          ],
          "scattermapbox": [
           {
            "marker": {
             "colorbar": {
              "outlinewidth": 0,
              "ticks": ""
             }
            },
            "type": "scattermapbox"
           }
          ],
          "scatterpolar": [
           {
            "marker": {
             "colorbar": {
              "outlinewidth": 0,
              "ticks": ""
             }
            },
            "type": "scatterpolar"
           }
          ],
          "scatterpolargl": [
           {
            "marker": {
             "colorbar": {
              "outlinewidth": 0,
              "ticks": ""
             }
            },
            "type": "scatterpolargl"
           }
          ],
          "scatterternary": [
           {
            "marker": {
             "colorbar": {
              "outlinewidth": 0,
              "ticks": ""
             }
            },
            "type": "scatterternary"
           }
          ],
          "surface": [
           {
            "colorbar": {
             "outlinewidth": 0,
             "ticks": ""
            },
            "colorscale": [
             [
              0,
              "#0d0887"
             ],
             [
              0.1111111111111111,
              "#46039f"
             ],
             [
              0.2222222222222222,
              "#7201a8"
             ],
             [
              0.3333333333333333,
              "#9c179e"
             ],
             [
              0.4444444444444444,
              "#bd3786"
             ],
             [
              0.5555555555555556,
              "#d8576b"
             ],
             [
              0.6666666666666666,
              "#ed7953"
             ],
             [
              0.7777777777777778,
              "#fb9f3a"
             ],
             [
              0.8888888888888888,
              "#fdca26"
             ],
             [
              1,
              "#f0f921"
             ]
            ],
            "type": "surface"
           }
          ],
          "table": [
           {
            "cells": {
             "fill": {
              "color": "#EBF0F8"
             },
             "line": {
              "color": "white"
             }
            },
            "header": {
             "fill": {
              "color": "#C8D4E3"
             },
             "line": {
              "color": "white"
             }
            },
            "type": "table"
           }
          ]
         },
         "layout": {
          "annotationdefaults": {
           "arrowcolor": "#2a3f5f",
           "arrowhead": 0,
           "arrowwidth": 1
          },
          "autotypenumbers": "strict",
          "coloraxis": {
           "colorbar": {
            "outlinewidth": 0,
            "ticks": ""
           }
          },
          "colorscale": {
           "diverging": [
            [
             0,
             "#8e0152"
            ],
            [
             0.1,
             "#c51b7d"
            ],
            [
             0.2,
             "#de77ae"
            ],
            [
             0.3,
             "#f1b6da"
            ],
            [
             0.4,
             "#fde0ef"
            ],
            [
             0.5,
             "#f7f7f7"
            ],
            [
             0.6,
             "#e6f5d0"
            ],
            [
             0.7,
             "#b8e186"
            ],
            [
             0.8,
             "#7fbc41"
            ],
            [
             0.9,
             "#4d9221"
            ],
            [
             1,
             "#276419"
            ]
           ],
           "sequential": [
            [
             0,
             "#0d0887"
            ],
            [
             0.1111111111111111,
             "#46039f"
            ],
            [
             0.2222222222222222,
             "#7201a8"
            ],
            [
             0.3333333333333333,
             "#9c179e"
            ],
            [
             0.4444444444444444,
             "#bd3786"
            ],
            [
             0.5555555555555556,
             "#d8576b"
            ],
            [
             0.6666666666666666,
             "#ed7953"
            ],
            [
             0.7777777777777778,
             "#fb9f3a"
            ],
            [
             0.8888888888888888,
             "#fdca26"
            ],
            [
             1,
             "#f0f921"
            ]
           ],
           "sequentialminus": [
            [
             0,
             "#0d0887"
            ],
            [
             0.1111111111111111,
             "#46039f"
            ],
            [
             0.2222222222222222,
             "#7201a8"
            ],
            [
             0.3333333333333333,
             "#9c179e"
            ],
            [
             0.4444444444444444,
             "#bd3786"
            ],
            [
             0.5555555555555556,
             "#d8576b"
            ],
            [
             0.6666666666666666,
             "#ed7953"
            ],
            [
             0.7777777777777778,
             "#fb9f3a"
            ],
            [
             0.8888888888888888,
             "#fdca26"
            ],
            [
             1,
             "#f0f921"
            ]
           ]
          },
          "colorway": [
           "#636efa",
           "#EF553B",
           "#00cc96",
           "#ab63fa",
           "#FFA15A",
           "#19d3f3",
           "#FF6692",
           "#B6E880",
           "#FF97FF",
           "#FECB52"
          ],
          "font": {
           "color": "#2a3f5f"
          },
          "geo": {
           "bgcolor": "white",
           "lakecolor": "white",
           "landcolor": "#E5ECF6",
           "showlakes": true,
           "showland": true,
           "subunitcolor": "white"
          },
          "hoverlabel": {
           "align": "left"
          },
          "hovermode": "closest",
          "mapbox": {
           "style": "light"
          },
          "paper_bgcolor": "white",
          "plot_bgcolor": "#E5ECF6",
          "polar": {
           "angularaxis": {
            "gridcolor": "white",
            "linecolor": "white",
            "ticks": ""
           },
           "bgcolor": "#E5ECF6",
           "radialaxis": {
            "gridcolor": "white",
            "linecolor": "white",
            "ticks": ""
           }
          },
          "scene": {
           "xaxis": {
            "backgroundcolor": "#E5ECF6",
            "gridcolor": "white",
            "gridwidth": 2,
            "linecolor": "white",
            "showbackground": true,
            "ticks": "",
            "zerolinecolor": "white"
           },
           "yaxis": {
            "backgroundcolor": "#E5ECF6",
            "gridcolor": "white",
            "gridwidth": 2,
            "linecolor": "white",
            "showbackground": true,
            "ticks": "",
            "zerolinecolor": "white"
           },
           "zaxis": {
            "backgroundcolor": "#E5ECF6",
            "gridcolor": "white",
            "gridwidth": 2,
            "linecolor": "white",
            "showbackground": true,
            "ticks": "",
            "zerolinecolor": "white"
           }
          },
          "shapedefaults": {
           "line": {
            "color": "#2a3f5f"
           }
          },
          "ternary": {
           "aaxis": {
            "gridcolor": "white",
            "linecolor": "white",
            "ticks": ""
           },
           "baxis": {
            "gridcolor": "white",
            "linecolor": "white",
            "ticks": ""
           },
           "bgcolor": "#E5ECF6",
           "caxis": {
            "gridcolor": "white",
            "linecolor": "white",
            "ticks": ""
           }
          },
          "title": {
           "x": 0.05
          },
          "xaxis": {
           "automargin": true,
           "gridcolor": "white",
           "linecolor": "white",
           "ticks": "",
           "title": {
            "standoff": 15
           },
           "zerolinecolor": "white",
           "zerolinewidth": 2
          },
          "yaxis": {
           "automargin": true,
           "gridcolor": "white",
           "linecolor": "white",
           "ticks": "",
           "title": {
            "standoff": 15
           },
           "zerolinecolor": "white",
           "zerolinewidth": 2
          }
         }
        },
        "title": {
         "text": "Player Characteristics Visulization with PlotlyExpress Tree Map"
        }
       }
      },
      "text/html": [
       "<div>                            <div id=\"51b19283-cd76-4ab1-ad99-0ced24cdd5cf\" class=\"plotly-graph-div\" style=\"height:525px; width:100%;\"></div>            <script type=\"text/javascript\">                require([\"plotly\"], function(Plotly) {                    window.PLOTLYENV=window.PLOTLYENV || {};                                    if (document.getElementById(\"51b19283-cd76-4ab1-ad99-0ced24cdd5cf\")) {                    Plotly.newPlot(                        \"51b19283-cd76-4ab1-ad99-0ced24cdd5cf\",                        [{\"branchvalues\": \"total\", \"customdata\": [[171.0, 171.0], [161.0, 161.0], [174.0, 174.0], [178.0, 178.0], [160.0, 160.0], [174.0, 174.0], [180.0, 180.0], [152.0, 152.0], [199.0, 199.0], [154.0, 154.0], [192.0, 192.0], [210.0, 210.0], [205.0, 205.0], [176.0, 176.0], [164.0, 164.0], [185.0, 185.0], [201.0, 201.0], [200.0, 200.0], [183.0, 183.0], [188.0, 188.0], [172.0, 172.0], [158.0, 158.0], [166.0, 166.0], [191.0, 191.0], [177.0, 177.0], [172.0, 172.0], [161.0, 161.0], [172.0, 172.0], [174.0, 174.0], [171.0, 171.0], [178.0, 178.0], [160.0, 160.0], [174.0, 174.0], [180.0, 180.0], [158.0, 158.0], [152.0, 152.0], [166.0, 166.0], [199.0, 199.0], [154.0, 154.0], [192.0, 192.0], [191.0, 191.0], [210.0, 210.0], [205.0, 205.0], [176.0, 176.0], [177.0, 177.0], [164.0, 164.0], [185.0, 185.0], [201.0, 201.0], [200.0, 200.0], [183.0, 183.0], [188.0, 188.0], [172.0, 172.0], [185.0, 185.0], [171.0, 171.0], [161.0, 161.0], [174.0, 174.0], [172.0, 172.0], [205.0, 205.0], [176.0, 176.0], [152.0, 152.0], [178.0, 178.0], [199.0, 199.0], [192.0, 192.0], [201.0, 201.0], [180.0, 180.0], [177.0, 177.0], [172.0, 172.0], [160.0, 160.0], [188.0, 188.0], [191.0, 191.0], [174.0, 174.0], [164.0, 164.0], [210.0, 210.0], [154.0, 154.0], [200.0, 200.0], [158.0, 158.0], [166.0, 166.0], [183.0, 183.0], [185.0, 185.0], [174.0, 174.0], [164.0, 164.0], [171.0, 171.0], [161.0, 161.0], [210.0, 210.0], [154.0, 154.0], [200.0, 200.0], [158.0, 158.0], [174.0, 174.0], [172.0, 172.0], [205.0, 205.0], [188.0, 188.0], [176.0, 176.0], [152.0, 152.0], [178.0, 178.0], [199.0, 199.0], [166.0, 166.0], [192.0, 192.0], [201.0, 201.0], [183.0, 183.0], [180.0, 180.0], [177.0, 177.0], [172.0, 172.0], [191.0, 191.0], [160.0, 160.0], [158.2954186413902, 158.2954186413902], [175.89268755935421, 175.89268755935421], [175.92909535452324, 175.92909535452324], [191.30026338893765, 191.30026338893765], [197.0642978003384, 197.0642978003384], [179.97781606719792, 179.97781606719792]], \"domain\": {\"x\": [0.0, 1.0], \"y\": [0.0, 1.0]}, \"hovertemplate\": \"labels=%{label}<br>weight_sum=%{value}<br>parent=%{parent}<br>id=%{id}<br>weight=%{color}<extra></extra>\", \"ids\": [\"age/18/Dante Giannuzzi/CAN/5'11/\", \"age/17/Gabe Klassen/CAN/5'10/L\", \"age/19/Clay Hanus/USA/5'10\\\"/L\", \"age/18/Kurtis Smythe/CAN/5'11/L\", \"age/17/Tyson Kozak/CAN/5'11/L\", \"age/19/Jaydon Dureau/CAN/5'11\\\"/L\", \"age/19/Reece Newkirk/CAN/5'11\\\"/L\", \"age/19/Kishaun Gervais/CAN/5'8/L\", \"age/21/Lane Gilliss/CAN/6'0/L\", \"age/17/Jack O'Brien/USA/6'0/L\", \"age/21/Matthew Quigley/CAN/6'0\\\"/L\", \"age/20/Isaiah DiLaura/USA/6'1/L\", \"age/20/Johnny Ludvig/CAN/6'1\\\"/L\", \"age/19/Kade Nolan/CAN/6'1\\\"/L\", \"age/18/Cross Hanas/USA/6'1\\\"/L\", \"age/20/Christian Riemer/CAN/6'2/L\", \"age/20/Nick Cicek/CAN/6'3\\\"/L\", \"age/21/Jake Gricius/USA/6'3\\\"/L\", \"age/19/Nick Perna/USA/6'3\\\"/L\", \"age/19/Jonas Br\\u00f8ndberg/DEN/6'4/L\", \"age/18/Seth Jarvis/CAN/5'10\\\"/R\", \"age/17/James Stefan/USA/5'11'/R\", \"age/20/Mason Mannek/USA/5'8\\\"/R\", \"age/18/Simon Knak/SUI/6'1/R\", \"age/18/Robbie Fromm-Delorme/CAN/6'1\\\"/R\", \"age/20/Joel Hofer/CAN/6'5\\\"/R\", \"age/17/Gabe Klassen/CAN/5'10\", \"age/18/Seth Jarvis/CAN/5'10\\\"\", \"age/19/Clay Hanus/USA/5'10\\\"\", \"age/18/Dante Giannuzzi/CAN/5'11\", \"age/18/Kurtis Smythe/CAN/5'11\", \"age/17/Tyson Kozak/CAN/5'11\", \"age/19/Jaydon Dureau/CAN/5'11\\\"\", \"age/19/Reece Newkirk/CAN/5'11\\\"\", \"age/17/James Stefan/USA/5'11'\", \"age/19/Kishaun Gervais/CAN/5'8\", \"age/20/Mason Mannek/USA/5'8\\\"\", \"age/21/Lane Gilliss/CAN/6'0\", \"age/17/Jack O'Brien/USA/6'0\", \"age/21/Matthew Quigley/CAN/6'0\\\"\", \"age/18/Simon Knak/SUI/6'1\", \"age/20/Isaiah DiLaura/USA/6'1\", \"age/20/Johnny Ludvig/CAN/6'1\\\"\", \"age/19/Kade Nolan/CAN/6'1\\\"\", \"age/18/Robbie Fromm-Delorme/CAN/6'1\\\"\", \"age/18/Cross Hanas/USA/6'1\\\"\", \"age/20/Christian Riemer/CAN/6'2\", \"age/20/Nick Cicek/CAN/6'3\\\"\", \"age/21/Jake Gricius/USA/6'3\\\"\", \"age/19/Nick Perna/USA/6'3\\\"\", \"age/19/Jonas Br\\u00f8ndberg/DEN/6'4\", \"age/20/Joel Hofer/CAN/6'5\\\"\", \"age/20/Christian Riemer/CAN\", \"age/18/Dante Giannuzzi/CAN\", \"age/17/Gabe Klassen/CAN\", \"age/19/Jaydon Dureau/CAN\", \"age/20/Joel Hofer/CAN\", \"age/20/Johnny Ludvig/CAN\", \"age/19/Kade Nolan/CAN\", \"age/19/Kishaun Gervais/CAN\", \"age/18/Kurtis Smythe/CAN\", \"age/21/Lane Gilliss/CAN\", \"age/21/Matthew Quigley/CAN\", \"age/20/Nick Cicek/CAN\", \"age/19/Reece Newkirk/CAN\", \"age/18/Robbie Fromm-Delorme/CAN\", \"age/18/Seth Jarvis/CAN\", \"age/17/Tyson Kozak/CAN\", \"age/19/Jonas Br\\u00f8ndberg/DEN\", \"age/18/Simon Knak/SUI\", \"age/19/Clay Hanus/USA\", \"age/18/Cross Hanas/USA\", \"age/20/Isaiah DiLaura/USA\", \"age/17/Jack O'Brien/USA\", \"age/21/Jake Gricius/USA\", \"age/17/James Stefan/USA\", \"age/20/Mason Mannek/USA\", \"age/19/Nick Perna/USA\", \"age/20/Christian Riemer\", \"age/19/Clay Hanus\", \"age/18/Cross Hanas\", \"age/18/Dante Giannuzzi\", \"age/17/Gabe Klassen\", \"age/20/Isaiah DiLaura\", \"age/17/Jack O'Brien\", \"age/21/Jake Gricius\", \"age/17/James Stefan\", \"age/19/Jaydon Dureau\", \"age/20/Joel Hofer\", \"age/20/Johnny Ludvig\", \"age/19/Jonas Br\\u00f8ndberg\", \"age/19/Kade Nolan\", \"age/19/Kishaun Gervais\", \"age/18/Kurtis Smythe\", \"age/21/Lane Gilliss\", \"age/20/Mason Mannek\", \"age/21/Matthew Quigley\", \"age/20/Nick Cicek\", \"age/19/Nick Perna\", \"age/19/Reece Newkirk\", \"age/18/Robbie Fromm-Delorme\", \"age/18/Seth Jarvis\", \"age/18/Simon Knak\", \"age/17/Tyson Kozak\", \"age/17\", \"age/18\", \"age/19\", \"age/20\", \"age/21\", \"age\"], \"labels\": [\"\", \"L\", \"L\", \"L\", \"L\", \"L\", \"L\", \"L\", \"L\", \"L\", \"L\", \"L\", \"L\", \"L\", \"L\", \"L\", \"L\", \"L\", \"L\", \"L\", \"R\", \"R\", \"R\", \"R\", \"R\", \"R\", \"5'10\", \"5'10\\\"\", \"5'10\\\"\", \"5'11\", \"5'11\", \"5'11\", \"5'11\\\"\", \"5'11\\\"\", \"5'11'\", \"5'8\", \"5'8\\\"\", \"6'0\", \"6'0\", \"6'0\\\"\", \"6'1\", \"6'1\", \"6'1\\\"\", \"6'1\\\"\", \"6'1\\\"\", \"6'1\\\"\", \"6'2\", \"6'3\\\"\", \"6'3\\\"\", \"6'3\\\"\", \"6'4\", \"6'5\\\"\", \"CAN\", \"CAN\", \"CAN\", \"CAN\", \"CAN\", \"CAN\", \"CAN\", \"CAN\", \"CAN\", \"CAN\", \"CAN\", \"CAN\", \"CAN\", \"CAN\", \"CAN\", \"CAN\", \"DEN\", \"SUI\", \"USA\", \"USA\", \"USA\", \"USA\", \"USA\", \"USA\", \"USA\", \"USA\", \"Christian Riemer\", \"Clay Hanus\", \"Cross Hanas\", \"Dante Giannuzzi\", \"Gabe Klassen\", \"Isaiah DiLaura\", \"Jack O'Brien\", \"Jake Gricius\", \"James Stefan\", \"Jaydon Dureau\", \"Joel Hofer\", \"Johnny Ludvig\", \"Jonas Br\\u00f8ndberg\", \"Kade Nolan\", \"Kishaun Gervais\", \"Kurtis Smythe\", \"Lane Gilliss\", \"Mason Mannek\", \"Matthew Quigley\", \"Nick Cicek\", \"Nick Perna\", \"Reece Newkirk\", \"Robbie Fromm-Delorme\", \"Seth Jarvis\", \"Simon Knak\", \"Tyson Kozak\", \"17\", \"18\", \"19\", \"20\", \"21\", \"age\"], \"marker\": {\"coloraxis\": \"coloraxis\", \"colors\": [171.0, 161.0, 174.0, 178.0, 160.0, 174.0, 180.0, 152.0, 199.0, 154.0, 192.0, 210.0, 205.0, 176.0, 164.0, 185.0, 201.0, 200.0, 183.0, 188.0, 172.0, 158.0, 166.0, 191.0, 177.0, 172.0, 161.0, 172.0, 174.0, 171.0, 178.0, 160.0, 174.0, 180.0, 158.0, 152.0, 166.0, 199.0, 154.0, 192.0, 191.0, 210.0, 205.0, 176.0, 177.0, 164.0, 185.0, 201.0, 200.0, 183.0, 188.0, 172.0, 185.0, 171.0, 161.0, 174.0, 172.0, 205.0, 176.0, 152.0, 178.0, 199.0, 192.0, 201.0, 180.0, 177.0, 172.0, 160.0, 188.0, 191.0, 174.0, 164.0, 210.0, 154.0, 200.0, 158.0, 166.0, 183.0, 185.0, 174.0, 164.0, 171.0, 161.0, 210.0, 154.0, 200.0, 158.0, 174.0, 172.0, 205.0, 188.0, 176.0, 152.0, 178.0, 199.0, 166.0, 192.0, 201.0, 183.0, 180.0, 177.0, 172.0, 191.0, 160.0, 158.2954186413902, 175.89268755935421, 175.92909535452324, 191.30026338893765, 197.0642978003384, 179.97781606719792]}, \"name\": \"\", \"parents\": [\"age/18/Dante Giannuzzi/CAN/5'11\", \"age/17/Gabe Klassen/CAN/5'10\", \"age/19/Clay Hanus/USA/5'10\\\"\", \"age/18/Kurtis Smythe/CAN/5'11\", \"age/17/Tyson Kozak/CAN/5'11\", \"age/19/Jaydon Dureau/CAN/5'11\\\"\", \"age/19/Reece Newkirk/CAN/5'11\\\"\", \"age/19/Kishaun Gervais/CAN/5'8\", \"age/21/Lane Gilliss/CAN/6'0\", \"age/17/Jack O'Brien/USA/6'0\", \"age/21/Matthew Quigley/CAN/6'0\\\"\", \"age/20/Isaiah DiLaura/USA/6'1\", \"age/20/Johnny Ludvig/CAN/6'1\\\"\", \"age/19/Kade Nolan/CAN/6'1\\\"\", \"age/18/Cross Hanas/USA/6'1\\\"\", \"age/20/Christian Riemer/CAN/6'2\", \"age/20/Nick Cicek/CAN/6'3\\\"\", \"age/21/Jake Gricius/USA/6'3\\\"\", \"age/19/Nick Perna/USA/6'3\\\"\", \"age/19/Jonas Br\\u00f8ndberg/DEN/6'4\", \"age/18/Seth Jarvis/CAN/5'10\\\"\", \"age/17/James Stefan/USA/5'11'\", \"age/20/Mason Mannek/USA/5'8\\\"\", \"age/18/Simon Knak/SUI/6'1\", \"age/18/Robbie Fromm-Delorme/CAN/6'1\\\"\", \"age/20/Joel Hofer/CAN/6'5\\\"\", \"age/17/Gabe Klassen/CAN\", \"age/18/Seth Jarvis/CAN\", \"age/19/Clay Hanus/USA\", \"age/18/Dante Giannuzzi/CAN\", \"age/18/Kurtis Smythe/CAN\", \"age/17/Tyson Kozak/CAN\", \"age/19/Jaydon Dureau/CAN\", \"age/19/Reece Newkirk/CAN\", \"age/17/James Stefan/USA\", \"age/19/Kishaun Gervais/CAN\", \"age/20/Mason Mannek/USA\", \"age/21/Lane Gilliss/CAN\", \"age/17/Jack O'Brien/USA\", \"age/21/Matthew Quigley/CAN\", \"age/18/Simon Knak/SUI\", \"age/20/Isaiah DiLaura/USA\", \"age/20/Johnny Ludvig/CAN\", \"age/19/Kade Nolan/CAN\", \"age/18/Robbie Fromm-Delorme/CAN\", \"age/18/Cross Hanas/USA\", \"age/20/Christian Riemer/CAN\", \"age/20/Nick Cicek/CAN\", \"age/21/Jake Gricius/USA\", \"age/19/Nick Perna/USA\", \"age/19/Jonas Br\\u00f8ndberg/DEN\", \"age/20/Joel Hofer/CAN\", \"age/20/Christian Riemer\", \"age/18/Dante Giannuzzi\", \"age/17/Gabe Klassen\", \"age/19/Jaydon Dureau\", \"age/20/Joel Hofer\", \"age/20/Johnny Ludvig\", \"age/19/Kade Nolan\", \"age/19/Kishaun Gervais\", \"age/18/Kurtis Smythe\", \"age/21/Lane Gilliss\", \"age/21/Matthew Quigley\", \"age/20/Nick Cicek\", \"age/19/Reece Newkirk\", \"age/18/Robbie Fromm-Delorme\", \"age/18/Seth Jarvis\", \"age/17/Tyson Kozak\", \"age/19/Jonas Br\\u00f8ndberg\", \"age/18/Simon Knak\", \"age/19/Clay Hanus\", \"age/18/Cross Hanas\", \"age/20/Isaiah DiLaura\", \"age/17/Jack O'Brien\", \"age/21/Jake Gricius\", \"age/17/James Stefan\", \"age/20/Mason Mannek\", \"age/19/Nick Perna\", \"age/20\", \"age/19\", \"age/18\", \"age/18\", \"age/17\", \"age/20\", \"age/17\", \"age/21\", \"age/17\", \"age/19\", \"age/20\", \"age/20\", \"age/19\", \"age/19\", \"age/19\", \"age/18\", \"age/21\", \"age/20\", \"age/21\", \"age/20\", \"age/19\", \"age/19\", \"age/18\", \"age/18\", \"age/18\", \"age/17\", \"age\", \"age\", \"age\", \"age\", \"age\", \"\"], \"type\": \"treemap\", \"values\": [171, 161, 174, 178, 160, 174, 180, 152, 199, 154, 192, 210, 205, 176, 164, 185, 201, 200, 183, 188, 172, 158, 166, 191, 177, 172, 161, 172, 174, 171, 178, 160, 174, 180, 158, 152, 166, 199, 154, 192, 191, 210, 205, 176, 177, 164, 185, 201, 200, 183, 188, 172, 185, 171, 161, 174, 172, 205, 176, 152, 178, 199, 192, 201, 180, 177, 172, 160, 188, 191, 174, 164, 210, 154, 200, 158, 166, 183, 185, 174, 164, 171, 161, 210, 154, 200, 158, 174, 172, 205, 188, 176, 152, 178, 199, 166, 192, 201, 183, 180, 177, 172, 191, 160, 633, 1053, 1227, 1139, 591, 4643]}],                        {\"coloraxis\": {\"colorbar\": {\"title\": {\"text\": \"weight\"}}, \"colorscale\": [[0.0, \"rgb(255,245,240)\"], [0.125, \"rgb(254,224,210)\"], [0.25, \"rgb(252,187,161)\"], [0.375, \"rgb(252,146,114)\"], [0.5, \"rgb(251,106,74)\"], [0.625, \"rgb(239,59,44)\"], [0.75, \"rgb(203,24,29)\"], [0.875, \"rgb(165,15,21)\"], [1.0, \"rgb(103,0,13)\"]]}, \"legend\": {\"tracegroupgap\": 0}, \"template\": {\"data\": {\"bar\": [{\"error_x\": {\"color\": \"#2a3f5f\"}, \"error_y\": {\"color\": \"#2a3f5f\"}, \"marker\": {\"line\": {\"color\": \"#E5ECF6\", \"width\": 0.5}}, \"type\": \"bar\"}], \"barpolar\": [{\"marker\": {\"line\": {\"color\": \"#E5ECF6\", \"width\": 0.5}}, \"type\": \"barpolar\"}], \"carpet\": [{\"aaxis\": {\"endlinecolor\": \"#2a3f5f\", \"gridcolor\": \"white\", \"linecolor\": \"white\", \"minorgridcolor\": \"white\", \"startlinecolor\": \"#2a3f5f\"}, \"baxis\": {\"endlinecolor\": \"#2a3f5f\", \"gridcolor\": \"white\", \"linecolor\": \"white\", \"minorgridcolor\": \"white\", \"startlinecolor\": \"#2a3f5f\"}, \"type\": \"carpet\"}], \"choropleth\": [{\"colorbar\": {\"outlinewidth\": 0, \"ticks\": \"\"}, \"type\": \"choropleth\"}], \"contour\": [{\"colorbar\": {\"outlinewidth\": 0, \"ticks\": \"\"}, \"colorscale\": [[0.0, \"#0d0887\"], [0.1111111111111111, \"#46039f\"], [0.2222222222222222, \"#7201a8\"], [0.3333333333333333, \"#9c179e\"], [0.4444444444444444, \"#bd3786\"], [0.5555555555555556, \"#d8576b\"], [0.6666666666666666, \"#ed7953\"], [0.7777777777777778, \"#fb9f3a\"], [0.8888888888888888, \"#fdca26\"], [1.0, \"#f0f921\"]], \"type\": \"contour\"}], \"contourcarpet\": [{\"colorbar\": {\"outlinewidth\": 0, \"ticks\": \"\"}, \"type\": \"contourcarpet\"}], \"heatmap\": [{\"colorbar\": {\"outlinewidth\": 0, \"ticks\": \"\"}, \"colorscale\": [[0.0, \"#0d0887\"], [0.1111111111111111, \"#46039f\"], [0.2222222222222222, \"#7201a8\"], [0.3333333333333333, \"#9c179e\"], [0.4444444444444444, \"#bd3786\"], [0.5555555555555556, \"#d8576b\"], [0.6666666666666666, \"#ed7953\"], [0.7777777777777778, \"#fb9f3a\"], [0.8888888888888888, \"#fdca26\"], [1.0, \"#f0f921\"]], \"type\": \"heatmap\"}], \"heatmapgl\": [{\"colorbar\": {\"outlinewidth\": 0, \"ticks\": \"\"}, \"colorscale\": [[0.0, \"#0d0887\"], [0.1111111111111111, \"#46039f\"], [0.2222222222222222, \"#7201a8\"], [0.3333333333333333, \"#9c179e\"], [0.4444444444444444, \"#bd3786\"], [0.5555555555555556, \"#d8576b\"], [0.6666666666666666, \"#ed7953\"], [0.7777777777777778, \"#fb9f3a\"], [0.8888888888888888, \"#fdca26\"], [1.0, \"#f0f921\"]], \"type\": \"heatmapgl\"}], \"histogram\": [{\"marker\": {\"colorbar\": {\"outlinewidth\": 0, \"ticks\": \"\"}}, \"type\": \"histogram\"}], \"histogram2d\": [{\"colorbar\": {\"outlinewidth\": 0, \"ticks\": \"\"}, \"colorscale\": [[0.0, \"#0d0887\"], [0.1111111111111111, \"#46039f\"], [0.2222222222222222, \"#7201a8\"], [0.3333333333333333, \"#9c179e\"], [0.4444444444444444, \"#bd3786\"], [0.5555555555555556, \"#d8576b\"], [0.6666666666666666, \"#ed7953\"], [0.7777777777777778, \"#fb9f3a\"], [0.8888888888888888, \"#fdca26\"], [1.0, \"#f0f921\"]], \"type\": \"histogram2d\"}], \"histogram2dcontour\": [{\"colorbar\": {\"outlinewidth\": 0, \"ticks\": \"\"}, \"colorscale\": [[0.0, \"#0d0887\"], [0.1111111111111111, \"#46039f\"], [0.2222222222222222, \"#7201a8\"], [0.3333333333333333, \"#9c179e\"], [0.4444444444444444, \"#bd3786\"], [0.5555555555555556, \"#d8576b\"], [0.6666666666666666, \"#ed7953\"], [0.7777777777777778, \"#fb9f3a\"], [0.8888888888888888, \"#fdca26\"], [1.0, \"#f0f921\"]], \"type\": \"histogram2dcontour\"}], \"mesh3d\": [{\"colorbar\": {\"outlinewidth\": 0, \"ticks\": \"\"}, \"type\": \"mesh3d\"}], \"parcoords\": [{\"line\": {\"colorbar\": {\"outlinewidth\": 0, \"ticks\": \"\"}}, \"type\": \"parcoords\"}], \"pie\": [{\"automargin\": true, \"type\": \"pie\"}], \"scatter\": [{\"marker\": {\"colorbar\": {\"outlinewidth\": 0, \"ticks\": \"\"}}, \"type\": \"scatter\"}], \"scatter3d\": [{\"line\": {\"colorbar\": {\"outlinewidth\": 0, \"ticks\": \"\"}}, \"marker\": {\"colorbar\": {\"outlinewidth\": 0, \"ticks\": \"\"}}, \"type\": \"scatter3d\"}], \"scattercarpet\": [{\"marker\": {\"colorbar\": {\"outlinewidth\": 0, \"ticks\": \"\"}}, \"type\": \"scattercarpet\"}], \"scattergeo\": [{\"marker\": {\"colorbar\": {\"outlinewidth\": 0, \"ticks\": \"\"}}, \"type\": \"scattergeo\"}], \"scattergl\": [{\"marker\": {\"colorbar\": {\"outlinewidth\": 0, \"ticks\": \"\"}}, \"type\": \"scattergl\"}], \"scattermapbox\": [{\"marker\": {\"colorbar\": {\"outlinewidth\": 0, \"ticks\": \"\"}}, \"type\": \"scattermapbox\"}], \"scatterpolar\": [{\"marker\": {\"colorbar\": {\"outlinewidth\": 0, \"ticks\": \"\"}}, \"type\": \"scatterpolar\"}], \"scatterpolargl\": [{\"marker\": {\"colorbar\": {\"outlinewidth\": 0, \"ticks\": \"\"}}, \"type\": \"scatterpolargl\"}], \"scatterternary\": [{\"marker\": {\"colorbar\": {\"outlinewidth\": 0, \"ticks\": \"\"}}, \"type\": \"scatterternary\"}], \"surface\": [{\"colorbar\": {\"outlinewidth\": 0, \"ticks\": \"\"}, \"colorscale\": [[0.0, \"#0d0887\"], [0.1111111111111111, \"#46039f\"], [0.2222222222222222, \"#7201a8\"], [0.3333333333333333, \"#9c179e\"], [0.4444444444444444, \"#bd3786\"], [0.5555555555555556, \"#d8576b\"], [0.6666666666666666, \"#ed7953\"], [0.7777777777777778, \"#fb9f3a\"], [0.8888888888888888, \"#fdca26\"], [1.0, \"#f0f921\"]], \"type\": \"surface\"}], \"table\": [{\"cells\": {\"fill\": {\"color\": \"#EBF0F8\"}, \"line\": {\"color\": \"white\"}}, \"header\": {\"fill\": {\"color\": \"#C8D4E3\"}, \"line\": {\"color\": \"white\"}}, \"type\": \"table\"}]}, \"layout\": {\"annotationdefaults\": {\"arrowcolor\": \"#2a3f5f\", \"arrowhead\": 0, \"arrowwidth\": 1}, \"autotypenumbers\": \"strict\", \"coloraxis\": {\"colorbar\": {\"outlinewidth\": 0, \"ticks\": \"\"}}, \"colorscale\": {\"diverging\": [[0, \"#8e0152\"], [0.1, \"#c51b7d\"], [0.2, \"#de77ae\"], [0.3, \"#f1b6da\"], [0.4, \"#fde0ef\"], [0.5, \"#f7f7f7\"], [0.6, \"#e6f5d0\"], [0.7, \"#b8e186\"], [0.8, \"#7fbc41\"], [0.9, \"#4d9221\"], [1, \"#276419\"]], \"sequential\": [[0.0, \"#0d0887\"], [0.1111111111111111, \"#46039f\"], [0.2222222222222222, \"#7201a8\"], [0.3333333333333333, \"#9c179e\"], [0.4444444444444444, \"#bd3786\"], [0.5555555555555556, \"#d8576b\"], [0.6666666666666666, \"#ed7953\"], [0.7777777777777778, \"#fb9f3a\"], [0.8888888888888888, \"#fdca26\"], [1.0, \"#f0f921\"]], \"sequentialminus\": [[0.0, \"#0d0887\"], [0.1111111111111111, \"#46039f\"], [0.2222222222222222, \"#7201a8\"], [0.3333333333333333, \"#9c179e\"], [0.4444444444444444, \"#bd3786\"], [0.5555555555555556, \"#d8576b\"], [0.6666666666666666, \"#ed7953\"], [0.7777777777777778, \"#fb9f3a\"], [0.8888888888888888, \"#fdca26\"], [1.0, \"#f0f921\"]]}, \"colorway\": [\"#636efa\", \"#EF553B\", \"#00cc96\", \"#ab63fa\", \"#FFA15A\", \"#19d3f3\", \"#FF6692\", \"#B6E880\", \"#FF97FF\", \"#FECB52\"], \"font\": {\"color\": \"#2a3f5f\"}, \"geo\": {\"bgcolor\": \"white\", \"lakecolor\": \"white\", \"landcolor\": \"#E5ECF6\", \"showlakes\": true, \"showland\": true, \"subunitcolor\": \"white\"}, \"hoverlabel\": {\"align\": \"left\"}, \"hovermode\": \"closest\", \"mapbox\": {\"style\": \"light\"}, \"paper_bgcolor\": \"white\", \"plot_bgcolor\": \"#E5ECF6\", \"polar\": {\"angularaxis\": {\"gridcolor\": \"white\", \"linecolor\": \"white\", \"ticks\": \"\"}, \"bgcolor\": \"#E5ECF6\", \"radialaxis\": {\"gridcolor\": \"white\", \"linecolor\": \"white\", \"ticks\": \"\"}}, \"scene\": {\"xaxis\": {\"backgroundcolor\": \"#E5ECF6\", \"gridcolor\": \"white\", \"gridwidth\": 2, \"linecolor\": \"white\", \"showbackground\": true, \"ticks\": \"\", \"zerolinecolor\": \"white\"}, \"yaxis\": {\"backgroundcolor\": \"#E5ECF6\", \"gridcolor\": \"white\", \"gridwidth\": 2, \"linecolor\": \"white\", \"showbackground\": true, \"ticks\": \"\", \"zerolinecolor\": \"white\"}, \"zaxis\": {\"backgroundcolor\": \"#E5ECF6\", \"gridcolor\": \"white\", \"gridwidth\": 2, \"linecolor\": \"white\", \"showbackground\": true, \"ticks\": \"\", \"zerolinecolor\": \"white\"}}, \"shapedefaults\": {\"line\": {\"color\": \"#2a3f5f\"}}, \"ternary\": {\"aaxis\": {\"gridcolor\": \"white\", \"linecolor\": \"white\", \"ticks\": \"\"}, \"baxis\": {\"gridcolor\": \"white\", \"linecolor\": \"white\", \"ticks\": \"\"}, \"bgcolor\": \"#E5ECF6\", \"caxis\": {\"gridcolor\": \"white\", \"linecolor\": \"white\", \"ticks\": \"\"}}, \"title\": {\"x\": 0.05}, \"xaxis\": {\"automargin\": true, \"gridcolor\": \"white\", \"linecolor\": \"white\", \"ticks\": \"\", \"title\": {\"standoff\": 15}, \"zerolinecolor\": \"white\", \"zerolinewidth\": 2}, \"yaxis\": {\"automargin\": true, \"gridcolor\": \"white\", \"linecolor\": \"white\", \"ticks\": \"\", \"title\": {\"standoff\": 15}, \"zerolinecolor\": \"white\", \"zerolinewidth\": 2}}}, \"title\": {\"text\": \"Player Characteristics Visulization with PlotlyExpress Tree Map\"}},                        {\"responsive\": true}                    ).then(function(){\n",
       "                            \n",
       "var gd = document.getElementById('51b19283-cd76-4ab1-ad99-0ced24cdd5cf');\n",
       "var x = new MutationObserver(function (mutations, observer) {{\n",
       "        var display = window.getComputedStyle(gd).display;\n",
       "        if (!display || display === 'none') {{\n",
       "            console.log([gd, 'removed!']);\n",
       "            Plotly.purge(gd);\n",
       "            observer.disconnect();\n",
       "        }}\n",
       "}});\n",
       "\n",
       "// Listen for the removal of the full notebook cells\n",
       "var notebookContainer = gd.closest('#notebook-container');\n",
       "if (notebookContainer) {{\n",
       "    x.observe(notebookContainer, {childList: true});\n",
       "}}\n",
       "\n",
       "// Listen for the clearing of the current output cell\n",
       "var outputEl = gd.closest('.output');\n",
       "if (outputEl) {{\n",
       "    x.observe(outputEl, {childList: true});\n",
       "}}\n",
       "\n",
       "                        })                };                });            </script>        </div>"
      ]
     },
     "metadata": {},
     "output_type": "display_data"
    }
   ],
   "source": [
    "# A Plotly Express Data Tree is a great way to gain some insight on player characteristics.\n",
    "# Added country column with players birth country.\n",
    "\n",
    "\n",
    "hawk_tree = hawk.assign(country = ['CAN', 'CAN', 'CAN', 'CAN','USA','USA','CAN','SUI','USA','USA','CAN','CAN','USA','DEN','CAN','CAN',\n",
    "                          'CAN','CAN','CAN','USA','CAN','CAN','CAN','USA','USA','CAN']) \n",
    "\n",
    "\n",
    "fig = px.treemap(hawk_tree, path=[px.Constant('age'), 'age', 'name','country','height','shoots'], values='weight',\n",
    "                  color='weight', hover_data=['weight'],color_continuous_scale='Reds',title = \"Player Characteristics Visulization with PlotlyExpress Tree Map\")\n",
    "\n",
    "\n",
    "fig.show()\n"
   ]
  },
  {
   "cell_type": "markdown",
   "metadata": {},
   "source": [
    "### __Interactive Player Data Table Dash App__"
   ]
  },
  {
   "cell_type": "code",
   "execution_count": 53,
   "metadata": {},
   "outputs": [
    {
     "data": {
      "text/html": [
       "\n",
       "        <iframe\n",
       "            width=\"100%\"\n",
       "            height=\"650\"\n",
       "            src=\"http://127.0.0.1:8072/\"\n",
       "            frameborder=\"0\"\n",
       "            allowfullscreen\n",
       "        ></iframe>\n",
       "        "
      ],
      "text/plain": [
       "<IPython.lib.display.IFrame at 0x19f0e3d5520>"
      ]
     },
     "metadata": {},
     "output_type": "display_data"
    }
   ],
   "source": [
    "# A Plotly Dash App is a great way to showcase a custom made dashboard inline or via the Web.\n",
    "# The Dash Data Dable is dynamic with the ability to drill down and add calculations to variables.\n",
    "\n",
    "\n",
    "df2 = hawk[['name','goals', 'assists','points','shots','shooting_percentage','plus_minus']]\n",
    "app = JupyterDash(__name__)\n",
    "\n",
    "app.layout =  html.Div([html.H1(\"Interactive Player Data Table & Charts Dash App\"),\n",
    "        dash_table.DataTable(\n",
    "        id='datatable-interactivity',\n",
    "        columns=[\n",
    "         {\"name\": i, \"id\": i, \"deletable\": True, \"selectable\": True} for i in df2.columns\n",
    "        ],\n",
    "        data=df2.to_dict('records'),\n",
    "        editable=True,\n",
    "        filter_action=\"native\",\n",
    "        sort_action=\"native\",\n",
    "        sort_mode=\"multi\",\n",
    "        column_selectable=\"single\",\n",
    "        row_selectable=\"multi\",\n",
    "        row_deletable=True,\n",
    "        selected_columns=[],\n",
    "        selected_rows=[],\n",
    "        page_action=\"native\",\n",
    "        page_current= 0,\n",
    "        page_size= 5,\n",
    "    ),\n",
    "    html.Div(id='datatable-interactivity-container'),\n",
    "    \n",
    "   \n",
    "])\n",
    "\n",
    "@app.callback(\n",
    "    Output('datatable-interactivity', 'style_data_conditional'),\n",
    "    Input('datatable-interactivity', 'selected_columns')\n",
    ")\n",
    "def update_styles(selected_columns):\n",
    "    return [{\n",
    "        'if': { 'column_id': i },\n",
    "        'background_color': '#D2F3FF'\n",
    "    } for i in selected_columns]\n",
    "\n",
    "@app.callback(\n",
    "    Output('datatable-interactivity-container', \"children\"),\n",
    "    Input('datatable-interactivity', \"derived_virtual_data\"),\n",
    "    Input('datatable-interactivity', \"derived_virtual_selected_rows\"))\n",
    "def update_graphs(rows, derived_virtual_selected_rows):\n",
    "    # When the table is first rendered, `derived_virtual_data` and\n",
    "    # `derived_virtual_selected_rows` will be `None`. This is due to an\n",
    "    # idiosyncrasy in Dash (unsupplied properties are always None and Dash\n",
    "    # calls the dependent callbacks when the component is first rendered).\n",
    "    # So, if `rows` is `None`, then the component was just rendered\n",
    "    # and its value will be the same as the component's dataframe.\n",
    "    # Instead of setting `None` in here, you could also set\n",
    "    # `derived_virtual_data=df.to_rows('dict')` when you initialize\n",
    "    # the component.\n",
    "    if derived_virtual_selected_rows is None:\n",
    "        derived_virtual_selected_rows = []\n",
    "\n",
    "    dff = df2 if rows is None else pd.DataFrame(rows)\n",
    "\n",
    "    colors = ['red' if i in derived_virtual_selected_rows else 'red'\n",
    "              for i in range(len(dff))]\n",
    "\n",
    "    return [\n",
    "        dcc.Graph(\n",
    "            id=column,\n",
    "            figure={\n",
    "                \"data\": [\n",
    "                    {\n",
    "                        \"x\": dff[\"name\"],\n",
    "                        \"y\": dff[column],\n",
    "                        \"type\": \"bar\",\n",
    "                        \"marker\": {\"color\": colors},\n",
    "                    }\n",
    "                ],\n",
    "                \"layout\": {\n",
    "                    \"xaxis\": {\"automargin\": True},\n",
    "                    \"yaxis\": {\n",
    "                        \"automargin\": True,\n",
    "                        \"title\": {\"text\": column}\n",
    "                    },\n",
    "                    \"height\": 150,\n",
    "                    \"margin\": {\"t\": 10, \"l\": 10, \"r\": 10},\n",
    "                },\n",
    "            },\n",
    "        )\n",
    "        # check if column exists - user may have deleted it\n",
    "        # If `column.deletable=False`, then you don't\n",
    "        # need to do this check.\n",
    "        for column in [\"goals\", \"assists\", \"points\",\"shooting_percentage\"] if column in dff\n",
    "    ]\n",
    "\n",
    "\n",
    "    \n",
    "app.run_server(mode='inline', port = 8072, dev_tools_ui=True, # to run inline inside Jupyter notebook\n",
    "          dev_tools_hot_reload =True, threaded=True)\n",
    "          \n"
   ]
  },
  {
   "cell_type": "markdown",
   "metadata": {},
   "source": [
    "### __Player Multi-Variable Line Plot__"
   ]
  },
  {
   "cell_type": "code",
   "execution_count": 152,
   "metadata": {},
   "outputs": [
    {
     "data": {
      "text/html": [
       "\n",
       "        <iframe\n",
       "            width=\"100%\"\n",
       "            height=\"650\"\n",
       "            src=\"http://127.0.0.1:8073/\"\n",
       "            frameborder=\"0\"\n",
       "            allowfullscreen\n",
       "        ></iframe>\n",
       "        "
      ],
      "text/plain": [
       "<IPython.lib.display.IFrame at 0x19f0defa550>"
      ]
     },
     "metadata": {},
     "output_type": "display_data"
    }
   ],
   "source": [
    "# I love the dropdown functionality offered with the dash app for quick exploratory analysis.\n",
    "\n",
    "hawk2 = hawk[['name','goals', 'assists','points','shots','shooting_percentage','plus_minus','points_per_game','penalty_minutes']]\n",
    "    \n",
    "app = JupyterDash(__name__) \n",
    "    \n",
    "    #Define dropdown options\n",
    "opts = [{'label': k, 'value': k} for k in list(hawk2.columns.values)[1:]]\n",
    "\n",
    "# Create a Dash layout\n",
    "app.layout = html.Div(children=[\n",
    "    \n",
    "    \n",
    "\n",
    "    html.H1(children='Player Multi-Variable Line Plot with Dropdown Dash App'),\n",
    "\n",
    "    html.Div(children='''\n",
    "        Select variable to plot below.\n",
    "    '''),\n",
    "\n",
    "    html.Div(children='''\n",
    "        Select variables to add to plot below.\n",
    "    '''),\n",
    "\n",
    "    dcc.Dropdown(\n",
    "        id='multiVariableDropdown',\n",
    "        options=opts,\n",
    "        value= ['goals'],\n",
    "        multi=True\n",
    "    ),\n",
    "\n",
    "    dcc.Graph(\n",
    "        id='plot2'\n",
    "    )\n",
    "\n",
    "])\n",
    "\n",
    "# Add callback functions\n",
    "## For plot 2\n",
    "@app.callback(Output('plot2', 'figure'),\n",
    "             [Input('multiVariableDropdown', 'value')])\n",
    "def update_graph(selectedVariable2):\n",
    "\n",
    "    traces = []\n",
    "\n",
    "    for var in selectedVariable2:\n",
    "\n",
    "        traces.append(go.Scatter(x=hawk2['name'],\n",
    "                                 y=hawk2[var],\n",
    "                                 name=var))\n",
    "    \n",
    "    \n",
    "    fig2 = go.Figure(data=traces)\n",
    "    fig2.update_yaxes(autorange=\"reversed\")\n",
    "    fig2.update_xaxes(autorange=\"reversed\")\n",
    "    return fig2\n",
    "\n",
    "app.run_server(mode='inline', port = 8073, dev_tools_ui=True, # to run inline inside Jupyter notebook\n",
    "          dev_tools_hot_reload =True, threaded=True)\n",
    "          "
   ]
  },
  {
   "cell_type": "markdown",
   "metadata": {},
   "source": [
    "### __Interactive Bubble Chart with Plotly.Express__"
   ]
  },
  {
   "cell_type": "code",
   "execution_count": 154,
   "metadata": {},
   "outputs": [
    {
     "data": {
      "application/vnd.plotly.v1+json": {
       "config": {
        "plotlyServerURL": "https://plot.ly"
       },
       "data": [
        {
         "customdata": [
          [
           "Seth Jarvis"
          ],
          [
           "Jaydon Dureau"
          ],
          [
           "Reece Newkirk"
          ],
          [
           "Johnny Ludvig"
          ],
          [
           "Robbie Fromm-Delorme"
          ],
          [
           "Lane Gilliss"
          ],
          [
           "Tyson Kozak"
          ],
          [
           "Matthew Quigley"
          ],
          [
           "Kishaun Gervais"
          ],
          [
           "Gabe Klassen"
          ],
          [
           "Kade Nolan"
          ],
          [
           "Nick Cicek"
          ],
          [
           "Kurtis Smythe"
          ],
          [
           "Dante Giannuzzi"
          ],
          [
           "Joel Hofer"
          ],
          [
           "Christian Riemer"
          ]
         ],
         "hovertemplate": "country=CAN<br>shots=%{x}<br>goals=%{y}<br>assists=%{marker.size}<br>name=%{customdata[0]}<extra></extra>",
         "legendgroup": "CAN",
         "marker": {
          "color": "#636efa",
          "size": [
           56,
           51,
           36,
           45,
           26,
           18,
           16,
           17,
           9,
           8,
           13,
           10,
           6,
           3,
           1,
           0
          ],
          "sizemode": "area",
          "sizeref": 0.015555555555555555,
          "symbol": "circle"
         },
         "mode": "markers",
         "name": "CAN",
         "orientation": "v",
         "showlegend": true,
         "type": "scatter",
         "x": [
          219,
          147,
          196,
          207,
          129,
          93,
          96,
          100,
          57,
          58,
          40,
          97,
          21,
          0,
          0,
          2
         ],
         "xaxis": "x",
         "y": [
          42,
          19,
          29,
          17,
          10,
          12,
          13,
          2,
          8,
          7,
          2,
          4,
          0,
          0,
          0,
          0
         ],
         "yaxis": "y"
        },
        {
         "customdata": [
          [
           "Jake Gricius"
          ],
          [
           "Cross Hanas"
          ],
          [
           "Jack O'Brien"
          ],
          [
           "Mason Mannek"
          ],
          [
           "Clay Hanus"
          ],
          [
           "James Stefan"
          ],
          [
           "Nick Perna"
          ],
          [
           "Isaiah DiLaura"
          ]
         ],
         "hovertemplate": "country=USA<br>shots=%{x}<br>goals=%{y}<br>assists=%{marker.size}<br>name=%{customdata[0]}<extra></extra>",
         "legendgroup": "USA",
         "marker": {
          "color": "#EF553B",
          "size": [
           40,
           27,
           16,
           18,
           17,
           4,
           2,
           1
          ],
          "sizemode": "area",
          "sizeref": 0.015555555555555555,
          "symbol": "circle"
         },
         "mode": "markers",
         "name": "USA",
         "orientation": "v",
         "showlegend": true,
         "type": "scatter",
         "x": [
          208,
          127,
          64,
          130,
          160,
          51,
          5,
          0
         ],
         "xaxis": "x",
         "y": [
          21,
          22,
          14,
          12,
          10,
          5,
          0,
          0
         ],
         "yaxis": "y"
        },
        {
         "customdata": [
          [
           "Simon Knak"
          ]
         ],
         "hovertemplate": "country=SUI<br>shots=%{x}<br>goals=%{y}<br>assists=%{marker.size}<br>name=%{customdata[0]}<extra></extra>",
         "legendgroup": "SUI",
         "marker": {
          "color": "#00cc96",
          "size": [
           25
          ],
          "sizemode": "area",
          "sizeref": 0.015555555555555555,
          "symbol": "circle"
         },
         "mode": "markers",
         "name": "SUI",
         "orientation": "v",
         "showlegend": true,
         "type": "scatter",
         "x": [
          134
         ],
         "xaxis": "x",
         "y": [
          9
         ],
         "yaxis": "y"
        },
        {
         "customdata": [
          [
           "Jonas Brøndberg"
          ]
         ],
         "hovertemplate": "country=DEN<br>shots=%{x}<br>goals=%{y}<br>assists=%{marker.size}<br>name=%{customdata[0]}<extra></extra>",
         "legendgroup": "DEN",
         "marker": {
          "color": "#ab63fa",
          "size": [
           13
          ],
          "sizemode": "area",
          "sizeref": 0.015555555555555555,
          "symbol": "circle"
         },
         "mode": "markers",
         "name": "DEN",
         "orientation": "v",
         "showlegend": true,
         "type": "scatter",
         "x": [
          66
         ],
         "xaxis": "x",
         "y": [
          9
         ],
         "yaxis": "y"
        }
       ],
       "layout": {
        "legend": {
         "itemsizing": "constant",
         "title": {
          "text": "country"
         },
         "tracegroupgap": 0
        },
        "margin": {
         "t": 60
        },
        "template": {
         "data": {
          "bar": [
           {
            "error_x": {
             "color": "#2a3f5f"
            },
            "error_y": {
             "color": "#2a3f5f"
            },
            "marker": {
             "line": {
              "color": "#E5ECF6",
              "width": 0.5
             }
            },
            "type": "bar"
           }
          ],
          "barpolar": [
           {
            "marker": {
             "line": {
              "color": "#E5ECF6",
              "width": 0.5
             }
            },
            "type": "barpolar"
           }
          ],
          "carpet": [
           {
            "aaxis": {
             "endlinecolor": "#2a3f5f",
             "gridcolor": "white",
             "linecolor": "white",
             "minorgridcolor": "white",
             "startlinecolor": "#2a3f5f"
            },
            "baxis": {
             "endlinecolor": "#2a3f5f",
             "gridcolor": "white",
             "linecolor": "white",
             "minorgridcolor": "white",
             "startlinecolor": "#2a3f5f"
            },
            "type": "carpet"
           }
          ],
          "choropleth": [
           {
            "colorbar": {
             "outlinewidth": 0,
             "ticks": ""
            },
            "type": "choropleth"
           }
          ],
          "contour": [
           {
            "colorbar": {
             "outlinewidth": 0,
             "ticks": ""
            },
            "colorscale": [
             [
              0,
              "#0d0887"
             ],
             [
              0.1111111111111111,
              "#46039f"
             ],
             [
              0.2222222222222222,
              "#7201a8"
             ],
             [
              0.3333333333333333,
              "#9c179e"
             ],
             [
              0.4444444444444444,
              "#bd3786"
             ],
             [
              0.5555555555555556,
              "#d8576b"
             ],
             [
              0.6666666666666666,
              "#ed7953"
             ],
             [
              0.7777777777777778,
              "#fb9f3a"
             ],
             [
              0.8888888888888888,
              "#fdca26"
             ],
             [
              1,
              "#f0f921"
             ]
            ],
            "type": "contour"
           }
          ],
          "contourcarpet": [
           {
            "colorbar": {
             "outlinewidth": 0,
             "ticks": ""
            },
            "type": "contourcarpet"
           }
          ],
          "heatmap": [
           {
            "colorbar": {
             "outlinewidth": 0,
             "ticks": ""
            },
            "colorscale": [
             [
              0,
              "#0d0887"
             ],
             [
              0.1111111111111111,
              "#46039f"
             ],
             [
              0.2222222222222222,
              "#7201a8"
             ],
             [
              0.3333333333333333,
              "#9c179e"
             ],
             [
              0.4444444444444444,
              "#bd3786"
             ],
             [
              0.5555555555555556,
              "#d8576b"
             ],
             [
              0.6666666666666666,
              "#ed7953"
             ],
             [
              0.7777777777777778,
              "#fb9f3a"
             ],
             [
              0.8888888888888888,
              "#fdca26"
             ],
             [
              1,
              "#f0f921"
             ]
            ],
            "type": "heatmap"
           }
          ],
          "heatmapgl": [
           {
            "colorbar": {
             "outlinewidth": 0,
             "ticks": ""
            },
            "colorscale": [
             [
              0,
              "#0d0887"
             ],
             [
              0.1111111111111111,
              "#46039f"
             ],
             [
              0.2222222222222222,
              "#7201a8"
             ],
             [
              0.3333333333333333,
              "#9c179e"
             ],
             [
              0.4444444444444444,
              "#bd3786"
             ],
             [
              0.5555555555555556,
              "#d8576b"
             ],
             [
              0.6666666666666666,
              "#ed7953"
             ],
             [
              0.7777777777777778,
              "#fb9f3a"
             ],
             [
              0.8888888888888888,
              "#fdca26"
             ],
             [
              1,
              "#f0f921"
             ]
            ],
            "type": "heatmapgl"
           }
          ],
          "histogram": [
           {
            "marker": {
             "colorbar": {
              "outlinewidth": 0,
              "ticks": ""
             }
            },
            "type": "histogram"
           }
          ],
          "histogram2d": [
           {
            "colorbar": {
             "outlinewidth": 0,
             "ticks": ""
            },
            "colorscale": [
             [
              0,
              "#0d0887"
             ],
             [
              0.1111111111111111,
              "#46039f"
             ],
             [
              0.2222222222222222,
              "#7201a8"
             ],
             [
              0.3333333333333333,
              "#9c179e"
             ],
             [
              0.4444444444444444,
              "#bd3786"
             ],
             [
              0.5555555555555556,
              "#d8576b"
             ],
             [
              0.6666666666666666,
              "#ed7953"
             ],
             [
              0.7777777777777778,
              "#fb9f3a"
             ],
             [
              0.8888888888888888,
              "#fdca26"
             ],
             [
              1,
              "#f0f921"
             ]
            ],
            "type": "histogram2d"
           }
          ],
          "histogram2dcontour": [
           {
            "colorbar": {
             "outlinewidth": 0,
             "ticks": ""
            },
            "colorscale": [
             [
              0,
              "#0d0887"
             ],
             [
              0.1111111111111111,
              "#46039f"
             ],
             [
              0.2222222222222222,
              "#7201a8"
             ],
             [
              0.3333333333333333,
              "#9c179e"
             ],
             [
              0.4444444444444444,
              "#bd3786"
             ],
             [
              0.5555555555555556,
              "#d8576b"
             ],
             [
              0.6666666666666666,
              "#ed7953"
             ],
             [
              0.7777777777777778,
              "#fb9f3a"
             ],
             [
              0.8888888888888888,
              "#fdca26"
             ],
             [
              1,
              "#f0f921"
             ]
            ],
            "type": "histogram2dcontour"
           }
          ],
          "mesh3d": [
           {
            "colorbar": {
             "outlinewidth": 0,
             "ticks": ""
            },
            "type": "mesh3d"
           }
          ],
          "parcoords": [
           {
            "line": {
             "colorbar": {
              "outlinewidth": 0,
              "ticks": ""
             }
            },
            "type": "parcoords"
           }
          ],
          "pie": [
           {
            "automargin": true,
            "type": "pie"
           }
          ],
          "scatter": [
           {
            "marker": {
             "colorbar": {
              "outlinewidth": 0,
              "ticks": ""
             }
            },
            "type": "scatter"
           }
          ],
          "scatter3d": [
           {
            "line": {
             "colorbar": {
              "outlinewidth": 0,
              "ticks": ""
             }
            },
            "marker": {
             "colorbar": {
              "outlinewidth": 0,
              "ticks": ""
             }
            },
            "type": "scatter3d"
           }
          ],
          "scattercarpet": [
           {
            "marker": {
             "colorbar": {
              "outlinewidth": 0,
              "ticks": ""
             }
            },
            "type": "scattercarpet"
           }
          ],
          "scattergeo": [
           {
            "marker": {
             "colorbar": {
              "outlinewidth": 0,
              "ticks": ""
             }
            },
            "type": "scattergeo"
           }
          ],
          "scattergl": [
           {
            "marker": {
             "colorbar": {
              "outlinewidth": 0,
              "ticks": ""
             }
            },
            "type": "scattergl"
           }
          ],
          "scattermapbox": [
           {
            "marker": {
             "colorbar": {
              "outlinewidth": 0,
              "ticks": ""
             }
            },
            "type": "scattermapbox"
           }
          ],
          "scatterpolar": [
           {
            "marker": {
             "colorbar": {
              "outlinewidth": 0,
              "ticks": ""
             }
            },
            "type": "scatterpolar"
           }
          ],
          "scatterpolargl": [
           {
            "marker": {
             "colorbar": {
              "outlinewidth": 0,
              "ticks": ""
             }
            },
            "type": "scatterpolargl"
           }
          ],
          "scatterternary": [
           {
            "marker": {
             "colorbar": {
              "outlinewidth": 0,
              "ticks": ""
             }
            },
            "type": "scatterternary"
           }
          ],
          "surface": [
           {
            "colorbar": {
             "outlinewidth": 0,
             "ticks": ""
            },
            "colorscale": [
             [
              0,
              "#0d0887"
             ],
             [
              0.1111111111111111,
              "#46039f"
             ],
             [
              0.2222222222222222,
              "#7201a8"
             ],
             [
              0.3333333333333333,
              "#9c179e"
             ],
             [
              0.4444444444444444,
              "#bd3786"
             ],
             [
              0.5555555555555556,
              "#d8576b"
             ],
             [
              0.6666666666666666,
              "#ed7953"
             ],
             [
              0.7777777777777778,
              "#fb9f3a"
             ],
             [
              0.8888888888888888,
              "#fdca26"
             ],
             [
              1,
              "#f0f921"
             ]
            ],
            "type": "surface"
           }
          ],
          "table": [
           {
            "cells": {
             "fill": {
              "color": "#EBF0F8"
             },
             "line": {
              "color": "white"
             }
            },
            "header": {
             "fill": {
              "color": "#C8D4E3"
             },
             "line": {
              "color": "white"
             }
            },
            "type": "table"
           }
          ]
         },
         "layout": {
          "annotationdefaults": {
           "arrowcolor": "#2a3f5f",
           "arrowhead": 0,
           "arrowwidth": 1
          },
          "autotypenumbers": "strict",
          "coloraxis": {
           "colorbar": {
            "outlinewidth": 0,
            "ticks": ""
           }
          },
          "colorscale": {
           "diverging": [
            [
             0,
             "#8e0152"
            ],
            [
             0.1,
             "#c51b7d"
            ],
            [
             0.2,
             "#de77ae"
            ],
            [
             0.3,
             "#f1b6da"
            ],
            [
             0.4,
             "#fde0ef"
            ],
            [
             0.5,
             "#f7f7f7"
            ],
            [
             0.6,
             "#e6f5d0"
            ],
            [
             0.7,
             "#b8e186"
            ],
            [
             0.8,
             "#7fbc41"
            ],
            [
             0.9,
             "#4d9221"
            ],
            [
             1,
             "#276419"
            ]
           ],
           "sequential": [
            [
             0,
             "#0d0887"
            ],
            [
             0.1111111111111111,
             "#46039f"
            ],
            [
             0.2222222222222222,
             "#7201a8"
            ],
            [
             0.3333333333333333,
             "#9c179e"
            ],
            [
             0.4444444444444444,
             "#bd3786"
            ],
            [
             0.5555555555555556,
             "#d8576b"
            ],
            [
             0.6666666666666666,
             "#ed7953"
            ],
            [
             0.7777777777777778,
             "#fb9f3a"
            ],
            [
             0.8888888888888888,
             "#fdca26"
            ],
            [
             1,
             "#f0f921"
            ]
           ],
           "sequentialminus": [
            [
             0,
             "#0d0887"
            ],
            [
             0.1111111111111111,
             "#46039f"
            ],
            [
             0.2222222222222222,
             "#7201a8"
            ],
            [
             0.3333333333333333,
             "#9c179e"
            ],
            [
             0.4444444444444444,
             "#bd3786"
            ],
            [
             0.5555555555555556,
             "#d8576b"
            ],
            [
             0.6666666666666666,
             "#ed7953"
            ],
            [
             0.7777777777777778,
             "#fb9f3a"
            ],
            [
             0.8888888888888888,
             "#fdca26"
            ],
            [
             1,
             "#f0f921"
            ]
           ]
          },
          "colorway": [
           "#636efa",
           "#EF553B",
           "#00cc96",
           "#ab63fa",
           "#FFA15A",
           "#19d3f3",
           "#FF6692",
           "#B6E880",
           "#FF97FF",
           "#FECB52"
          ],
          "font": {
           "color": "#2a3f5f"
          },
          "geo": {
           "bgcolor": "white",
           "lakecolor": "white",
           "landcolor": "#E5ECF6",
           "showlakes": true,
           "showland": true,
           "subunitcolor": "white"
          },
          "hoverlabel": {
           "align": "left"
          },
          "hovermode": "closest",
          "mapbox": {
           "style": "light"
          },
          "paper_bgcolor": "white",
          "plot_bgcolor": "#E5ECF6",
          "polar": {
           "angularaxis": {
            "gridcolor": "white",
            "linecolor": "white",
            "ticks": ""
           },
           "bgcolor": "#E5ECF6",
           "radialaxis": {
            "gridcolor": "white",
            "linecolor": "white",
            "ticks": ""
           }
          },
          "scene": {
           "xaxis": {
            "backgroundcolor": "#E5ECF6",
            "gridcolor": "white",
            "gridwidth": 2,
            "linecolor": "white",
            "showbackground": true,
            "ticks": "",
            "zerolinecolor": "white"
           },
           "yaxis": {
            "backgroundcolor": "#E5ECF6",
            "gridcolor": "white",
            "gridwidth": 2,
            "linecolor": "white",
            "showbackground": true,
            "ticks": "",
            "zerolinecolor": "white"
           },
           "zaxis": {
            "backgroundcolor": "#E5ECF6",
            "gridcolor": "white",
            "gridwidth": 2,
            "linecolor": "white",
            "showbackground": true,
            "ticks": "",
            "zerolinecolor": "white"
           }
          },
          "shapedefaults": {
           "line": {
            "color": "#2a3f5f"
           }
          },
          "ternary": {
           "aaxis": {
            "gridcolor": "white",
            "linecolor": "white",
            "ticks": ""
           },
           "baxis": {
            "gridcolor": "white",
            "linecolor": "white",
            "ticks": ""
           },
           "bgcolor": "#E5ECF6",
           "caxis": {
            "gridcolor": "white",
            "linecolor": "white",
            "ticks": ""
           }
          },
          "title": {
           "x": 0.05
          },
          "xaxis": {
           "automargin": true,
           "gridcolor": "white",
           "linecolor": "white",
           "ticks": "",
           "title": {
            "standoff": 15
           },
           "zerolinecolor": "white",
           "zerolinewidth": 2
          },
          "yaxis": {
           "automargin": true,
           "gridcolor": "white",
           "linecolor": "white",
           "ticks": "",
           "title": {
            "standoff": 15
           },
           "zerolinecolor": "white",
           "zerolinewidth": 2
          }
         }
        },
        "xaxis": {
         "anchor": "y",
         "domain": [
          0,
          1
         ],
         "title": {
          "text": "shots"
         }
        },
        "yaxis": {
         "anchor": "x",
         "domain": [
          0,
          1
         ],
         "title": {
          "text": "goals"
         }
        }
       }
      },
      "text/html": [
       "<div>                            <div id=\"f1ffd6f5-8b4c-4994-b8a7-27d2908d11e7\" class=\"plotly-graph-div\" style=\"height:525px; width:100%;\"></div>            <script type=\"text/javascript\">                require([\"plotly\"], function(Plotly) {                    window.PLOTLYENV=window.PLOTLYENV || {};                                    if (document.getElementById(\"f1ffd6f5-8b4c-4994-b8a7-27d2908d11e7\")) {                    Plotly.newPlot(                        \"f1ffd6f5-8b4c-4994-b8a7-27d2908d11e7\",                        [{\"customdata\": [[\"Seth Jarvis\"], [\"Jaydon Dureau\"], [\"Reece Newkirk\"], [\"Johnny Ludvig\"], [\"Robbie Fromm-Delorme\"], [\"Lane Gilliss\"], [\"Tyson Kozak\"], [\"Matthew Quigley\"], [\"Kishaun Gervais\"], [\"Gabe Klassen\"], [\"Kade Nolan\"], [\"Nick Cicek\"], [\"Kurtis Smythe\"], [\"Dante Giannuzzi\"], [\"Joel Hofer\"], [\"Christian Riemer\"]], \"hovertemplate\": \"country=CAN<br>shots=%{x}<br>goals=%{y}<br>assists=%{marker.size}<br>name=%{customdata[0]}<extra></extra>\", \"legendgroup\": \"CAN\", \"marker\": {\"color\": \"#636efa\", \"size\": [56, 51, 36, 45, 26, 18, 16, 17, 9, 8, 13, 10, 6, 3, 1, 0], \"sizemode\": \"area\", \"sizeref\": 0.015555555555555555, \"symbol\": \"circle\"}, \"mode\": \"markers\", \"name\": \"CAN\", \"orientation\": \"v\", \"showlegend\": true, \"type\": \"scatter\", \"x\": [219, 147, 196, 207, 129, 93, 96, 100, 57, 58, 40, 97, 21, 0, 0, 2], \"xaxis\": \"x\", \"y\": [42, 19, 29, 17, 10, 12, 13, 2, 8, 7, 2, 4, 0, 0, 0, 0], \"yaxis\": \"y\"}, {\"customdata\": [[\"Jake Gricius\"], [\"Cross Hanas\"], [\"Jack O'Brien\"], [\"Mason Mannek\"], [\"Clay Hanus\"], [\"James Stefan\"], [\"Nick Perna\"], [\"Isaiah DiLaura\"]], \"hovertemplate\": \"country=USA<br>shots=%{x}<br>goals=%{y}<br>assists=%{marker.size}<br>name=%{customdata[0]}<extra></extra>\", \"legendgroup\": \"USA\", \"marker\": {\"color\": \"#EF553B\", \"size\": [40, 27, 16, 18, 17, 4, 2, 1], \"sizemode\": \"area\", \"sizeref\": 0.015555555555555555, \"symbol\": \"circle\"}, \"mode\": \"markers\", \"name\": \"USA\", \"orientation\": \"v\", \"showlegend\": true, \"type\": \"scatter\", \"x\": [208, 127, 64, 130, 160, 51, 5, 0], \"xaxis\": \"x\", \"y\": [21, 22, 14, 12, 10, 5, 0, 0], \"yaxis\": \"y\"}, {\"customdata\": [[\"Simon Knak\"]], \"hovertemplate\": \"country=SUI<br>shots=%{x}<br>goals=%{y}<br>assists=%{marker.size}<br>name=%{customdata[0]}<extra></extra>\", \"legendgroup\": \"SUI\", \"marker\": {\"color\": \"#00cc96\", \"size\": [25], \"sizemode\": \"area\", \"sizeref\": 0.015555555555555555, \"symbol\": \"circle\"}, \"mode\": \"markers\", \"name\": \"SUI\", \"orientation\": \"v\", \"showlegend\": true, \"type\": \"scatter\", \"x\": [134], \"xaxis\": \"x\", \"y\": [9], \"yaxis\": \"y\"}, {\"customdata\": [[\"Jonas Br\\u00f8ndberg\"]], \"hovertemplate\": \"country=DEN<br>shots=%{x}<br>goals=%{y}<br>assists=%{marker.size}<br>name=%{customdata[0]}<extra></extra>\", \"legendgroup\": \"DEN\", \"marker\": {\"color\": \"#ab63fa\", \"size\": [13], \"sizemode\": \"area\", \"sizeref\": 0.015555555555555555, \"symbol\": \"circle\"}, \"mode\": \"markers\", \"name\": \"DEN\", \"orientation\": \"v\", \"showlegend\": true, \"type\": \"scatter\", \"x\": [66], \"xaxis\": \"x\", \"y\": [9], \"yaxis\": \"y\"}],                        {\"legend\": {\"itemsizing\": \"constant\", \"title\": {\"text\": \"country\"}, \"tracegroupgap\": 0}, \"margin\": {\"t\": 60}, \"template\": {\"data\": {\"bar\": [{\"error_x\": {\"color\": \"#2a3f5f\"}, \"error_y\": {\"color\": \"#2a3f5f\"}, \"marker\": {\"line\": {\"color\": \"#E5ECF6\", \"width\": 0.5}}, \"type\": \"bar\"}], \"barpolar\": [{\"marker\": {\"line\": {\"color\": \"#E5ECF6\", \"width\": 0.5}}, \"type\": \"barpolar\"}], \"carpet\": [{\"aaxis\": {\"endlinecolor\": \"#2a3f5f\", \"gridcolor\": \"white\", \"linecolor\": \"white\", \"minorgridcolor\": \"white\", \"startlinecolor\": \"#2a3f5f\"}, \"baxis\": {\"endlinecolor\": \"#2a3f5f\", \"gridcolor\": \"white\", \"linecolor\": \"white\", \"minorgridcolor\": \"white\", \"startlinecolor\": \"#2a3f5f\"}, \"type\": \"carpet\"}], \"choropleth\": [{\"colorbar\": {\"outlinewidth\": 0, \"ticks\": \"\"}, \"type\": \"choropleth\"}], \"contour\": [{\"colorbar\": {\"outlinewidth\": 0, \"ticks\": \"\"}, \"colorscale\": [[0.0, \"#0d0887\"], [0.1111111111111111, \"#46039f\"], [0.2222222222222222, \"#7201a8\"], [0.3333333333333333, \"#9c179e\"], [0.4444444444444444, \"#bd3786\"], [0.5555555555555556, \"#d8576b\"], [0.6666666666666666, \"#ed7953\"], [0.7777777777777778, \"#fb9f3a\"], [0.8888888888888888, \"#fdca26\"], [1.0, \"#f0f921\"]], \"type\": \"contour\"}], \"contourcarpet\": [{\"colorbar\": {\"outlinewidth\": 0, \"ticks\": \"\"}, \"type\": \"contourcarpet\"}], \"heatmap\": [{\"colorbar\": {\"outlinewidth\": 0, \"ticks\": \"\"}, \"colorscale\": [[0.0, \"#0d0887\"], [0.1111111111111111, \"#46039f\"], [0.2222222222222222, \"#7201a8\"], [0.3333333333333333, \"#9c179e\"], [0.4444444444444444, \"#bd3786\"], [0.5555555555555556, \"#d8576b\"], [0.6666666666666666, \"#ed7953\"], [0.7777777777777778, \"#fb9f3a\"], [0.8888888888888888, \"#fdca26\"], [1.0, \"#f0f921\"]], \"type\": \"heatmap\"}], \"heatmapgl\": [{\"colorbar\": {\"outlinewidth\": 0, \"ticks\": \"\"}, \"colorscale\": [[0.0, \"#0d0887\"], [0.1111111111111111, \"#46039f\"], [0.2222222222222222, \"#7201a8\"], [0.3333333333333333, \"#9c179e\"], [0.4444444444444444, \"#bd3786\"], [0.5555555555555556, \"#d8576b\"], [0.6666666666666666, \"#ed7953\"], [0.7777777777777778, \"#fb9f3a\"], [0.8888888888888888, \"#fdca26\"], [1.0, \"#f0f921\"]], \"type\": \"heatmapgl\"}], \"histogram\": [{\"marker\": {\"colorbar\": {\"outlinewidth\": 0, \"ticks\": \"\"}}, \"type\": \"histogram\"}], \"histogram2d\": [{\"colorbar\": {\"outlinewidth\": 0, \"ticks\": \"\"}, \"colorscale\": [[0.0, \"#0d0887\"], [0.1111111111111111, \"#46039f\"], [0.2222222222222222, \"#7201a8\"], [0.3333333333333333, \"#9c179e\"], [0.4444444444444444, \"#bd3786\"], [0.5555555555555556, \"#d8576b\"], [0.6666666666666666, \"#ed7953\"], [0.7777777777777778, \"#fb9f3a\"], [0.8888888888888888, \"#fdca26\"], [1.0, \"#f0f921\"]], \"type\": \"histogram2d\"}], \"histogram2dcontour\": [{\"colorbar\": {\"outlinewidth\": 0, \"ticks\": \"\"}, \"colorscale\": [[0.0, \"#0d0887\"], [0.1111111111111111, \"#46039f\"], [0.2222222222222222, \"#7201a8\"], [0.3333333333333333, \"#9c179e\"], [0.4444444444444444, \"#bd3786\"], [0.5555555555555556, \"#d8576b\"], [0.6666666666666666, \"#ed7953\"], [0.7777777777777778, \"#fb9f3a\"], [0.8888888888888888, \"#fdca26\"], [1.0, \"#f0f921\"]], \"type\": \"histogram2dcontour\"}], \"mesh3d\": [{\"colorbar\": {\"outlinewidth\": 0, \"ticks\": \"\"}, \"type\": \"mesh3d\"}], \"parcoords\": [{\"line\": {\"colorbar\": {\"outlinewidth\": 0, \"ticks\": \"\"}}, \"type\": \"parcoords\"}], \"pie\": [{\"automargin\": true, \"type\": \"pie\"}], \"scatter\": [{\"marker\": {\"colorbar\": {\"outlinewidth\": 0, \"ticks\": \"\"}}, \"type\": \"scatter\"}], \"scatter3d\": [{\"line\": {\"colorbar\": {\"outlinewidth\": 0, \"ticks\": \"\"}}, \"marker\": {\"colorbar\": {\"outlinewidth\": 0, \"ticks\": \"\"}}, \"type\": \"scatter3d\"}], \"scattercarpet\": [{\"marker\": {\"colorbar\": {\"outlinewidth\": 0, \"ticks\": \"\"}}, \"type\": \"scattercarpet\"}], \"scattergeo\": [{\"marker\": {\"colorbar\": {\"outlinewidth\": 0, \"ticks\": \"\"}}, \"type\": \"scattergeo\"}], \"scattergl\": [{\"marker\": {\"colorbar\": {\"outlinewidth\": 0, \"ticks\": \"\"}}, \"type\": \"scattergl\"}], \"scattermapbox\": [{\"marker\": {\"colorbar\": {\"outlinewidth\": 0, \"ticks\": \"\"}}, \"type\": \"scattermapbox\"}], \"scatterpolar\": [{\"marker\": {\"colorbar\": {\"outlinewidth\": 0, \"ticks\": \"\"}}, \"type\": \"scatterpolar\"}], \"scatterpolargl\": [{\"marker\": {\"colorbar\": {\"outlinewidth\": 0, \"ticks\": \"\"}}, \"type\": \"scatterpolargl\"}], \"scatterternary\": [{\"marker\": {\"colorbar\": {\"outlinewidth\": 0, \"ticks\": \"\"}}, \"type\": \"scatterternary\"}], \"surface\": [{\"colorbar\": {\"outlinewidth\": 0, \"ticks\": \"\"}, \"colorscale\": [[0.0, \"#0d0887\"], [0.1111111111111111, \"#46039f\"], [0.2222222222222222, \"#7201a8\"], [0.3333333333333333, \"#9c179e\"], [0.4444444444444444, \"#bd3786\"], [0.5555555555555556, \"#d8576b\"], [0.6666666666666666, \"#ed7953\"], [0.7777777777777778, \"#fb9f3a\"], [0.8888888888888888, \"#fdca26\"], [1.0, \"#f0f921\"]], \"type\": \"surface\"}], \"table\": [{\"cells\": {\"fill\": {\"color\": \"#EBF0F8\"}, \"line\": {\"color\": \"white\"}}, \"header\": {\"fill\": {\"color\": \"#C8D4E3\"}, \"line\": {\"color\": \"white\"}}, \"type\": \"table\"}]}, \"layout\": {\"annotationdefaults\": {\"arrowcolor\": \"#2a3f5f\", \"arrowhead\": 0, \"arrowwidth\": 1}, \"autotypenumbers\": \"strict\", \"coloraxis\": {\"colorbar\": {\"outlinewidth\": 0, \"ticks\": \"\"}}, \"colorscale\": {\"diverging\": [[0, \"#8e0152\"], [0.1, \"#c51b7d\"], [0.2, \"#de77ae\"], [0.3, \"#f1b6da\"], [0.4, \"#fde0ef\"], [0.5, \"#f7f7f7\"], [0.6, \"#e6f5d0\"], [0.7, \"#b8e186\"], [0.8, \"#7fbc41\"], [0.9, \"#4d9221\"], [1, \"#276419\"]], \"sequential\": [[0.0, \"#0d0887\"], [0.1111111111111111, \"#46039f\"], [0.2222222222222222, \"#7201a8\"], [0.3333333333333333, \"#9c179e\"], [0.4444444444444444, \"#bd3786\"], [0.5555555555555556, \"#d8576b\"], [0.6666666666666666, \"#ed7953\"], [0.7777777777777778, \"#fb9f3a\"], [0.8888888888888888, \"#fdca26\"], [1.0, \"#f0f921\"]], \"sequentialminus\": [[0.0, \"#0d0887\"], [0.1111111111111111, \"#46039f\"], [0.2222222222222222, \"#7201a8\"], [0.3333333333333333, \"#9c179e\"], [0.4444444444444444, \"#bd3786\"], [0.5555555555555556, \"#d8576b\"], [0.6666666666666666, \"#ed7953\"], [0.7777777777777778, \"#fb9f3a\"], [0.8888888888888888, \"#fdca26\"], [1.0, \"#f0f921\"]]}, \"colorway\": [\"#636efa\", \"#EF553B\", \"#00cc96\", \"#ab63fa\", \"#FFA15A\", \"#19d3f3\", \"#FF6692\", \"#B6E880\", \"#FF97FF\", \"#FECB52\"], \"font\": {\"color\": \"#2a3f5f\"}, \"geo\": {\"bgcolor\": \"white\", \"lakecolor\": \"white\", \"landcolor\": \"#E5ECF6\", \"showlakes\": true, \"showland\": true, \"subunitcolor\": \"white\"}, \"hoverlabel\": {\"align\": \"left\"}, \"hovermode\": \"closest\", \"mapbox\": {\"style\": \"light\"}, \"paper_bgcolor\": \"white\", \"plot_bgcolor\": \"#E5ECF6\", \"polar\": {\"angularaxis\": {\"gridcolor\": \"white\", \"linecolor\": \"white\", \"ticks\": \"\"}, \"bgcolor\": \"#E5ECF6\", \"radialaxis\": {\"gridcolor\": \"white\", \"linecolor\": \"white\", \"ticks\": \"\"}}, \"scene\": {\"xaxis\": {\"backgroundcolor\": \"#E5ECF6\", \"gridcolor\": \"white\", \"gridwidth\": 2, \"linecolor\": \"white\", \"showbackground\": true, \"ticks\": \"\", \"zerolinecolor\": \"white\"}, \"yaxis\": {\"backgroundcolor\": \"#E5ECF6\", \"gridcolor\": \"white\", \"gridwidth\": 2, \"linecolor\": \"white\", \"showbackground\": true, \"ticks\": \"\", \"zerolinecolor\": \"white\"}, \"zaxis\": {\"backgroundcolor\": \"#E5ECF6\", \"gridcolor\": \"white\", \"gridwidth\": 2, \"linecolor\": \"white\", \"showbackground\": true, \"ticks\": \"\", \"zerolinecolor\": \"white\"}}, \"shapedefaults\": {\"line\": {\"color\": \"#2a3f5f\"}}, \"ternary\": {\"aaxis\": {\"gridcolor\": \"white\", \"linecolor\": \"white\", \"ticks\": \"\"}, \"baxis\": {\"gridcolor\": \"white\", \"linecolor\": \"white\", \"ticks\": \"\"}, \"bgcolor\": \"#E5ECF6\", \"caxis\": {\"gridcolor\": \"white\", \"linecolor\": \"white\", \"ticks\": \"\"}}, \"title\": {\"x\": 0.05}, \"xaxis\": {\"automargin\": true, \"gridcolor\": \"white\", \"linecolor\": \"white\", \"ticks\": \"\", \"title\": {\"standoff\": 15}, \"zerolinecolor\": \"white\", \"zerolinewidth\": 2}, \"yaxis\": {\"automargin\": true, \"gridcolor\": \"white\", \"linecolor\": \"white\", \"ticks\": \"\", \"title\": {\"standoff\": 15}, \"zerolinecolor\": \"white\", \"zerolinewidth\": 2}}}, \"xaxis\": {\"anchor\": \"y\", \"domain\": [0.0, 1.0], \"title\": {\"text\": \"shots\"}}, \"yaxis\": {\"anchor\": \"x\", \"domain\": [0.0, 1.0], \"title\": {\"text\": \"goals\"}}},                        {\"responsive\": true}                    ).then(function(){\n",
       "                            \n",
       "var gd = document.getElementById('f1ffd6f5-8b4c-4994-b8a7-27d2908d11e7');\n",
       "var x = new MutationObserver(function (mutations, observer) {{\n",
       "        var display = window.getComputedStyle(gd).display;\n",
       "        if (!display || display === 'none') {{\n",
       "            console.log([gd, 'removed!']);\n",
       "            Plotly.purge(gd);\n",
       "            observer.disconnect();\n",
       "        }}\n",
       "}});\n",
       "\n",
       "// Listen for the removal of the full notebook cells\n",
       "var notebookContainer = gd.closest('#notebook-container');\n",
       "if (notebookContainer) {{\n",
       "    x.observe(notebookContainer, {childList: true});\n",
       "}}\n",
       "\n",
       "// Listen for the clearing of the current output cell\n",
       "var outputEl = gd.closest('.output');\n",
       "if (outputEl) {{\n",
       "    x.observe(outputEl, {childList: true});\n",
       "}}\n",
       "\n",
       "                        })                };                });            </script>        </div>"
      ]
     },
     "metadata": {},
     "output_type": "display_data"
    }
   ],
   "source": [
    "\n",
    "\n",
    "df = hawk_tree\n",
    "\n",
    "\n",
    "hawky['shots'] = hawky['shots'].astype('int') #had to change type to int32 for variable to work in \"size\" funciton\n",
    "hawky['goals'] = hawky['goals'].astype('int') \n",
    "\n",
    "fig = px.scatter(df, x=\"shots\", y=\"goals\", color=\"country\",\n",
    "                  size = \"assists\", hover_data=['name'],size_max=60)\n",
    "\n",
    "\n",
    "\n",
    "\n",
    "\n",
    "\n",
    "fig.show()"
   ]
  }
 ],
 "metadata": {
  "kernelspec": {
   "display_name": "Python 3",
   "language": "python",
   "name": "python3"
  },
  "language_info": {
   "codemirror_mode": {
    "name": "ipython",
    "version": 3
   },
   "file_extension": ".py",
   "mimetype": "text/x-python",
   "name": "python",
   "nbconvert_exporter": "python",
   "pygments_lexer": "ipython3",
   "version": "3.8.3"
  }
 },
 "nbformat": 4,
 "nbformat_minor": 4
}
